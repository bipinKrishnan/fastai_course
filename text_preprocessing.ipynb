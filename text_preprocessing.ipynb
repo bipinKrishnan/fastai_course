{
  "nbformat": 4,
  "nbformat_minor": 0,
  "metadata": {
    "colab": {
      "name": "text_preprocessing.ipynb",
      "provenance": [],
      "collapsed_sections": [],
      "authorship_tag": "ABX9TyP3xLpqoTF7XMzdhOLOVHjo",
      "include_colab_link": true
    },
    "kernelspec": {
      "name": "python3",
      "display_name": "Python 3"
    }
  },
  "cells": [
    {
      "cell_type": "markdown",
      "metadata": {
        "id": "view-in-github",
        "colab_type": "text"
      },
      "source": [
        "<a href=\"https://colab.research.google.com/github/bipinKrishnan/fastai_course/blob/master/text_preprocessing.ipynb\" target=\"_parent\"><img src=\"https://colab.research.google.com/assets/colab-badge.svg\" alt=\"Open In Colab\"/></a>"
      ]
    },
    {
      "cell_type": "code",
      "metadata": {
        "id": "5KWvUH4OlEkG"
      },
      "source": [
        "import torch\n",
        "from torch import nn\n",
        "from torchvision.datasets.utils import download_and_extract_archive\n",
        "from torch.utils.data import DataLoader, Dataset\n",
        "\n",
        "from glob import glob"
      ],
      "execution_count": 81,
      "outputs": []
    },
    {
      "cell_type": "code",
      "metadata": {
        "id": "havyIu1zl1Up"
      },
      "source": [
        "url = 'https://download.pytorch.org/tutorial/data.zip'\n",
        "download_and_extract_archive(url, '.')"
      ],
      "execution_count": null,
      "outputs": []
    },
    {
      "cell_type": "code",
      "metadata": {
        "id": "O4uNub6zmEIE"
      },
      "source": [
        "path = '/content/data/names/'\n",
        "dic = {}\n",
        "vocab = {}\n",
        "\n",
        "for files in Path(path).glob('*.txt'):\n",
        "  with open(files) as f:\n",
        "    dic[files.stem] = f.read().strip().split('\\n')\n",
        "\n",
        "uniq_tokens = set(list(dic.values())[0])\n",
        "\n",
        "for idx, val in enumerate(uniq_tokens):\n",
        "  vocab[val] = idx"
      ],
      "execution_count": 73,
      "outputs": []
    },
    {
      "cell_type": "code",
      "metadata": {
        "id": "nnBwKnfdq3Ot"
      },
      "source": [
        "vocab, dic.keys()"
      ],
      "execution_count": null,
      "outputs": []
    },
    {
      "cell_type": "code",
      "metadata": {
        "id": "FnF6TOTQq9gq",
        "outputId": "6bc5ddd2-fa7a-4b2f-a7f6-ff3ad178a6e6",
        "colab": {
          "base_uri": "https://localhost:8080/",
          "height": 34
        }
      },
      "source": [
        "max(vocab.values()), len(vocab)"
      ],
      "execution_count": 76,
      "outputs": [
        {
          "output_type": "execute_result",
          "data": {
            "text/plain": [
              "(225, 226)"
            ]
          },
          "metadata": {
            "tags": []
          },
          "execution_count": 76
        }
      ]
    },
    {
      "cell_type": "code",
      "metadata": {
        "id": "2U3tzPU4s0B9",
        "outputId": "ff485945-2af6-4d75-ab1f-1230818bbdd0",
        "colab": {
          "base_uri": "https://localhost:8080/",
          "height": 34
        }
      },
      "source": [
        "list(dic.keys()).index('Chinese')"
      ],
      "execution_count": 80,
      "outputs": [
        {
          "output_type": "execute_result",
          "data": {
            "text/plain": [
              "17"
            ]
          },
          "metadata": {
            "tags": []
          },
          "execution_count": 80
        }
      ]
    },
    {
      "cell_type": "code",
      "metadata": {
        "id": "ZEI_9wRFvZoF"
      },
      "source": [
        "torch.stack([for ])"
      ],
      "execution_count": null,
      "outputs": []
    },
    {
      "cell_type": "markdown",
      "metadata": {
        "id": "0JU7NG-t0utt"
      },
      "source": [
        "names, targets, vocabs"
      ]
    },
    {
      "cell_type": "code",
      "metadata": {
        "id": "Ub92eULe6hFB"
      },
      "source": [
        "class Preprocess:\n",
        "  def __init__(self, path):\n",
        "    self.path = path\n",
        "\n",
        "  def get_names_targets(self):\n",
        "    self.corpus = []\n",
        "    for files in Path(self.path).glob('*.txt'):\n",
        "      with open(files) as f:\n",
        "        for l in f.readlines():\n",
        "          self.corpus.append((l.split('\\n')[0], files.stem))\n",
        "\n",
        "    return self.corpus\n",
        "\n",
        "  def get_targets(self):\n",
        "    targets = []\n",
        "    for files in Path(self.path).glob('*.txt'):\n",
        "      targets.append(files.stem)\n",
        "\n",
        "    return targets\n",
        "\n",
        "  def get_vocab(self):\n",
        "    vocab = set()\n",
        "\n",
        "    for name, target in self.corpus:\n",
        "      vocab.add(name)\n",
        "\n",
        "    return list(vocab)"
      ],
      "execution_count": 282,
      "outputs": []
    },
    {
      "cell_type": "code",
      "metadata": {
        "id": "k7aljtz65StJ"
      },
      "source": [
        "class LoadDataset(Dataset):\n",
        "  def __init__(self, names_targets, names_vocab, target_vocab):\n",
        "    self.name_target = names_targets\n",
        "    self.name_vocab = names_vocab\n",
        "    self.target_vocab = target_vocab\n",
        "  \n",
        "  def __getitem__(self, idx): \n",
        "    item = self.name_target[idx]\n",
        "    return self.name_vocab.index(item[0]), self.target_vocab.index(item[1])\n",
        "\n",
        "  def __len__(self): return len(names_targets)"
      ],
      "execution_count": 288,
      "outputs": []
    },
    {
      "cell_type": "code",
      "metadata": {
        "id": "dGX_2cND8NVZ"
      },
      "source": [
        "pre = Preprocess(path)\n",
        "\n",
        "data = pre.get_names_targets()\n",
        "target_vocab = pre.get_targets()\n",
        "name_vocab = pre.get_vocab()"
      ],
      "execution_count": 289,
      "outputs": []
    },
    {
      "cell_type": "code",
      "metadata": {
        "id": "zr5ewS27CaaH"
      },
      "source": [
        "ds = LoadDataset(data, name_vocab, target_vocab)"
      ],
      "execution_count": 290,
      "outputs": []
    },
    {
      "cell_type": "code",
      "metadata": {
        "id": "MCMt1c9fDxCN",
        "outputId": "ea2793cf-3e63-49d7-9f09-1f1c0351686d",
        "colab": {
          "base_uri": "https://localhost:8080/",
          "height": 34
        }
      },
      "source": [
        "for x, y in ds:\n",
        "  print(x, y)\n",
        "  break"
      ],
      "execution_count": 292,
      "outputs": [
        {
          "output_type": "stream",
          "text": [
            "13640 0\n"
          ],
          "name": "stdout"
        }
      ]
    },
    {
      "cell_type": "code",
      "metadata": {
        "id": "fs7bkRwmD4kT"
      },
      "source": [
        "dls = DataLoader(ds, 16, shuffle=True)"
      ],
      "execution_count": 293,
      "outputs": []
    },
    {
      "cell_type": "code",
      "metadata": {
        "id": "dtrOHyAGEqOY",
        "outputId": "2801e9cd-c1a1-4f24-ff88-a17d7a52e7f2",
        "colab": {
          "base_uri": "https://localhost:8080/",
          "height": 69
        }
      },
      "source": [
        "for data, label in dls:\n",
        "  print(data.shape, label.shape)\n",
        "  print(data[0], label[0],'\\n', name_vocab[data[0].item()], target_vocab[label[0].item()])\n",
        "  break"
      ],
      "execution_count": 299,
      "outputs": [
        {
          "output_type": "stream",
          "text": [
            "torch.Size([16]) torch.Size([16])\n",
            "tensor(8273) tensor(8) \n",
            " Davydovich Russian\n"
          ],
          "name": "stdout"
        }
      ]
    }
  ]
}