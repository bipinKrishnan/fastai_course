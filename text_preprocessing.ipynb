{
  "nbformat": 4,
  "nbformat_minor": 0,
  "metadata": {
    "colab": {
      "name": "text_preprocessing.ipynb",
      "provenance": [],
      "collapsed_sections": [],
      "authorship_tag": "ABX9TyM5iFh57U7cxEZdu14VaTBB",
      "include_colab_link": true
    },
    "kernelspec": {
      "name": "python3",
      "display_name": "Python 3"
    }
  },
  "cells": [
    {
      "cell_type": "markdown",
      "metadata": {
        "id": "view-in-github",
        "colab_type": "text"
      },
      "source": [
        "<a href=\"https://colab.research.google.com/github/bipinKrishnan/fastai_course/blob/master/text_preprocessing.ipynb\" target=\"_parent\"><img src=\"https://colab.research.google.com/assets/colab-badge.svg\" alt=\"Open In Colab\"/></a>"
      ]
    },
    {
      "cell_type": "code",
      "metadata": {
        "id": "5KWvUH4OlEkG"
      },
      "source": [
        "from torchvision.datasets.utils import download_and_extract_archive\n",
        "from torch.utils.data import DataLoader, Dataset\n",
        "\n",
        "from pathlib import Path"
      ],
      "execution_count": 1,
      "outputs": []
    },
    {
      "cell_type": "code",
      "metadata": {
        "id": "havyIu1zl1Up"
      },
      "source": [
        "url = 'https://download.pytorch.org/tutorial/data.zip'\n",
        "download_and_extract_archive(url, '.')"
      ],
      "execution_count": null,
      "outputs": []
    },
    {
      "cell_type": "code",
      "metadata": {
        "id": "O4uNub6zmEIE"
      },
      "source": [
        "path = '/content/data/names/'"
      ],
      "execution_count": 3,
      "outputs": []
    },
    {
      "cell_type": "markdown",
      "metadata": {
        "id": "0JU7NG-t0utt"
      },
      "source": [
        "names, targets, vocabs"
      ]
    },
    {
      "cell_type": "code",
      "metadata": {
        "id": "Ub92eULe6hFB"
      },
      "source": [
        "class Preprocess:\n",
        "  def __init__(self, path):\n",
        "    self.path = path\n",
        "\n",
        "  def get_names_targets(self):\n",
        "    self.corpus = []\n",
        "    for files in Path(self.path).glob('*.txt'):\n",
        "      with open(files) as f:\n",
        "        for l in f.readlines():\n",
        "          self.corpus.append((l.split('\\n')[0], files.stem))\n",
        "\n",
        "    return self.corpus\n",
        "\n",
        "  def get_targets(self):\n",
        "    targets = []\n",
        "    for files in Path(self.path).glob('*.txt'):\n",
        "      targets.append(files.stem)\n",
        "\n",
        "    return targets\n",
        "\n",
        "  def get_vocab(self):\n",
        "    vocab = set()\n",
        "\n",
        "    for name, target in self.corpus:\n",
        "      vocab.add(name)\n",
        "\n",
        "    return list(vocab)"
      ],
      "execution_count": 4,
      "outputs": []
    },
    {
      "cell_type": "code",
      "metadata": {
        "id": "k7aljtz65StJ"
      },
      "source": [
        "class LoadDataset(Dataset):\n",
        "  def __init__(self, names_targets, names_vocab, target_vocab):\n",
        "    self.name_target = names_targets\n",
        "    self.name_vocab = names_vocab\n",
        "    self.target_vocab = target_vocab\n",
        "  \n",
        "  def __getitem__(self, idx): \n",
        "    item = self.name_target[idx]\n",
        "    return self.name_vocab.index(item[0]), self.target_vocab.index(item[1])\n",
        "\n",
        "  def __len__(self): return len(self.name_target)"
      ],
      "execution_count": 5,
      "outputs": []
    },
    {
      "cell_type": "code",
      "metadata": {
        "id": "dGX_2cND8NVZ"
      },
      "source": [
        "pre = Preprocess(path)\n",
        "\n",
        "data = pre.get_names_targets()\n",
        "target_vocab = pre.get_targets()\n",
        "name_vocab = pre.get_vocab()"
      ],
      "execution_count": null,
      "outputs": []
    },
    {
      "cell_type": "code",
      "metadata": {
        "id": "zr5ewS27CaaH"
      },
      "source": [
        "ds = LoadDataset(data, name_vocab, target_vocab)"
      ],
      "execution_count": 7,
      "outputs": []
    },
    {
      "cell_type": "code",
      "metadata": {
        "id": "MCMt1c9fDxCN",
        "outputId": "f4c94d0b-f0f1-4018-a5d3-830f2e1a90df",
        "colab": {
          "base_uri": "https://localhost:8080/",
          "height": 34
        }
      },
      "source": [
        "for x, y in ds:\n",
        "  print(x, y)\n",
        "  break"
      ],
      "execution_count": 8,
      "outputs": [
        {
          "output_type": "stream",
          "text": [
            "5823 0\n"
          ],
          "name": "stdout"
        }
      ]
    },
    {
      "cell_type": "code",
      "metadata": {
        "id": "fs7bkRwmD4kT"
      },
      "source": [
        "dls = DataLoader(ds, 16, shuffle=True)"
      ],
      "execution_count": 9,
      "outputs": []
    },
    {
      "cell_type": "code",
      "metadata": {
        "id": "dtrOHyAGEqOY",
        "outputId": "9330cdd8-0337-4702-87e1-c4d4202c80db",
        "colab": {
          "base_uri": "https://localhost:8080/",
          "height": 69
        }
      },
      "source": [
        "for data, label in dls:\n",
        "  print(data.shape, label.shape)\n",
        "  print(data[0], label[0],'\\n', name_vocab[data[0].item()], target_vocab[label[0].item()])\n",
        "  break"
      ],
      "execution_count": 10,
      "outputs": [
        {
          "output_type": "stream",
          "text": [
            "torch.Size([16]) torch.Size([16])\n",
            "tensor(2161) tensor(14) \n",
            " Kassis Arabic\n"
          ],
          "name": "stdout"
        }
      ]
    }
  ]
}