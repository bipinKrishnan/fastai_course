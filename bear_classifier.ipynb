{
  "nbformat": 4,
  "nbformat_minor": 0,
  "metadata": {
    "colab": {
      "name": "bear_classifier.ipynb",
      "provenance": [],
      "authorship_tag": "ABX9TyNhReFc0fQ98WycHjFvUlnS",
      "include_colab_link": true
    },
    "kernelspec": {
      "name": "python3",
      "display_name": "Python 3"
    },
    "widgets": {
      "application/vnd.jupyter.widget-state+json": {
        "c48f4773895041f79ded3518e6813de8": {
          "model_module": "@jupyter-widgets/controls",
          "model_name": "HBoxModel",
          "state": {
            "_view_name": "HBoxView",
            "_dom_classes": [],
            "_model_name": "HBoxModel",
            "_view_module": "@jupyter-widgets/controls",
            "_model_module_version": "1.5.0",
            "_view_count": null,
            "_view_module_version": "1.5.0",
            "box_style": "",
            "layout": "IPY_MODEL_1f60907e7fe04993b15828d84b64f20b",
            "_model_module": "@jupyter-widgets/controls",
            "children": [
              "IPY_MODEL_7d263269a8934ac4a7f870bc2db9e6fe",
              "IPY_MODEL_2b2b41e60e3c49029424ed31c01825a0"
            ]
          }
        },
        "1f60907e7fe04993b15828d84b64f20b": {
          "model_module": "@jupyter-widgets/base",
          "model_name": "LayoutModel",
          "state": {
            "_view_name": "LayoutView",
            "grid_template_rows": null,
            "right": null,
            "justify_content": null,
            "_view_module": "@jupyter-widgets/base",
            "overflow": null,
            "_model_module_version": "1.2.0",
            "_view_count": null,
            "flex_flow": null,
            "width": null,
            "min_width": null,
            "border": null,
            "align_items": null,
            "bottom": null,
            "_model_module": "@jupyter-widgets/base",
            "top": null,
            "grid_column": null,
            "overflow_y": null,
            "overflow_x": null,
            "grid_auto_flow": null,
            "grid_area": null,
            "grid_template_columns": null,
            "flex": null,
            "_model_name": "LayoutModel",
            "justify_items": null,
            "grid_row": null,
            "max_height": null,
            "align_content": null,
            "visibility": null,
            "align_self": null,
            "height": null,
            "min_height": null,
            "padding": null,
            "grid_auto_rows": null,
            "grid_gap": null,
            "max_width": null,
            "order": null,
            "_view_module_version": "1.2.0",
            "grid_template_areas": null,
            "object_position": null,
            "object_fit": null,
            "grid_auto_columns": null,
            "margin": null,
            "display": null,
            "left": null
          }
        },
        "7d263269a8934ac4a7f870bc2db9e6fe": {
          "model_module": "@jupyter-widgets/controls",
          "model_name": "FloatProgressModel",
          "state": {
            "_view_name": "ProgressView",
            "style": "IPY_MODEL_e89a12a3214e488bbfa8734cff528d55",
            "_dom_classes": [],
            "description": "100%",
            "_model_name": "FloatProgressModel",
            "bar_style": "success",
            "max": 50,
            "_view_module": "@jupyter-widgets/controls",
            "_model_module_version": "1.5.0",
            "value": 50,
            "_view_count": null,
            "_view_module_version": "1.5.0",
            "orientation": "horizontal",
            "min": 0,
            "description_tooltip": null,
            "_model_module": "@jupyter-widgets/controls",
            "layout": "IPY_MODEL_2520469a5e5a4528ac7d208e5b1d3a56"
          }
        },
        "2b2b41e60e3c49029424ed31c01825a0": {
          "model_module": "@jupyter-widgets/controls",
          "model_name": "HTMLModel",
          "state": {
            "_view_name": "HTMLView",
            "style": "IPY_MODEL_24d569b597634e08b3216fc26d332e0a",
            "_dom_classes": [],
            "description": "",
            "_model_name": "HTMLModel",
            "placeholder": "​",
            "_view_module": "@jupyter-widgets/controls",
            "_model_module_version": "1.5.0",
            "value": " 50/50 [00:16&lt;00:00,  3.07it/s]",
            "_view_count": null,
            "_view_module_version": "1.5.0",
            "description_tooltip": null,
            "_model_module": "@jupyter-widgets/controls",
            "layout": "IPY_MODEL_ee39e572981c4f97b1263adb0c5c2545"
          }
        },
        "e89a12a3214e488bbfa8734cff528d55": {
          "model_module": "@jupyter-widgets/controls",
          "model_name": "ProgressStyleModel",
          "state": {
            "_view_name": "StyleView",
            "_model_name": "ProgressStyleModel",
            "description_width": "initial",
            "_view_module": "@jupyter-widgets/base",
            "_model_module_version": "1.5.0",
            "_view_count": null,
            "_view_module_version": "1.2.0",
            "bar_color": null,
            "_model_module": "@jupyter-widgets/controls"
          }
        },
        "2520469a5e5a4528ac7d208e5b1d3a56": {
          "model_module": "@jupyter-widgets/base",
          "model_name": "LayoutModel",
          "state": {
            "_view_name": "LayoutView",
            "grid_template_rows": null,
            "right": null,
            "justify_content": null,
            "_view_module": "@jupyter-widgets/base",
            "overflow": null,
            "_model_module_version": "1.2.0",
            "_view_count": null,
            "flex_flow": null,
            "width": null,
            "min_width": null,
            "border": null,
            "align_items": null,
            "bottom": null,
            "_model_module": "@jupyter-widgets/base",
            "top": null,
            "grid_column": null,
            "overflow_y": null,
            "overflow_x": null,
            "grid_auto_flow": null,
            "grid_area": null,
            "grid_template_columns": null,
            "flex": null,
            "_model_name": "LayoutModel",
            "justify_items": null,
            "grid_row": null,
            "max_height": null,
            "align_content": null,
            "visibility": null,
            "align_self": null,
            "height": null,
            "min_height": null,
            "padding": null,
            "grid_auto_rows": null,
            "grid_gap": null,
            "max_width": null,
            "order": null,
            "_view_module_version": "1.2.0",
            "grid_template_areas": null,
            "object_position": null,
            "object_fit": null,
            "grid_auto_columns": null,
            "margin": null,
            "display": null,
            "left": null
          }
        },
        "24d569b597634e08b3216fc26d332e0a": {
          "model_module": "@jupyter-widgets/controls",
          "model_name": "DescriptionStyleModel",
          "state": {
            "_view_name": "StyleView",
            "_model_name": "DescriptionStyleModel",
            "description_width": "",
            "_view_module": "@jupyter-widgets/base",
            "_model_module_version": "1.5.0",
            "_view_count": null,
            "_view_module_version": "1.2.0",
            "_model_module": "@jupyter-widgets/controls"
          }
        },
        "ee39e572981c4f97b1263adb0c5c2545": {
          "model_module": "@jupyter-widgets/base",
          "model_name": "LayoutModel",
          "state": {
            "_view_name": "LayoutView",
            "grid_template_rows": null,
            "right": null,
            "justify_content": null,
            "_view_module": "@jupyter-widgets/base",
            "overflow": null,
            "_model_module_version": "1.2.0",
            "_view_count": null,
            "flex_flow": null,
            "width": null,
            "min_width": null,
            "border": null,
            "align_items": null,
            "bottom": null,
            "_model_module": "@jupyter-widgets/base",
            "top": null,
            "grid_column": null,
            "overflow_y": null,
            "overflow_x": null,
            "grid_auto_flow": null,
            "grid_area": null,
            "grid_template_columns": null,
            "flex": null,
            "_model_name": "LayoutModel",
            "justify_items": null,
            "grid_row": null,
            "max_height": null,
            "align_content": null,
            "visibility": null,
            "align_self": null,
            "height": null,
            "min_height": null,
            "padding": null,
            "grid_auto_rows": null,
            "grid_gap": null,
            "max_width": null,
            "order": null,
            "_view_module_version": "1.2.0",
            "grid_template_areas": null,
            "object_position": null,
            "object_fit": null,
            "grid_auto_columns": null,
            "margin": null,
            "display": null,
            "left": null
          }
        }
      }
    }
  },
  "cells": [
    {
      "cell_type": "markdown",
      "metadata": {
        "id": "view-in-github",
        "colab_type": "text"
      },
      "source": [
        "<a href=\"https://colab.research.google.com/github/bipinKrishnan/fastai_course/blob/master/bear_classifier.ipynb\" target=\"_parent\"><img src=\"https://colab.research.google.com/assets/colab-badge.svg\" alt=\"Open In Colab\"/></a>"
      ]
    },
    {
      "cell_type": "code",
      "metadata": {
        "id": "EhcU9anb244Q",
        "colab_type": "code",
        "colab": {}
      },
      "source": [
        "import torch\n",
        "from torchvision import models\n",
        "from torch import optim\n",
        "from torch.utils.data import DataLoader\n",
        "from torchvision.datasets import ImageFolder\n",
        "from torchvision.transforms import transforms\n",
        "\n",
        "import matplotlib.pyplot as plt\n",
        "import numpy as np\n",
        "from PIL import Image\n",
        "\n",
        "from tqdm.notebook import tqdm"
      ],
      "execution_count": 187,
      "outputs": []
    },
    {
      "cell_type": "code",
      "metadata": {
        "id": "LABJzOfAvJdE",
        "colab_type": "code",
        "colab": {
          "base_uri": "https://localhost:8080/",
          "height": 34
        },
        "outputId": "cc1bcf92-2dad-4221-c3e8-d076e70b2323"
      },
      "source": [
        "!rm -r $path/.ipynb_checkpoints"
      ],
      "execution_count": 196,
      "outputs": [
        {
          "output_type": "stream",
          "text": [
            "rm: cannot remove '/content/bear/.ipynb_checkpoints': No such file or directory\n"
          ],
          "name": "stdout"
        }
      ]
    },
    {
      "cell_type": "code",
      "metadata": {
        "id": "SdK8iKbG2_KH",
        "colab_type": "code",
        "colab": {}
      },
      "source": [
        "path = '/content/bear'\n",
        "target = {0: \"Black bear\", 1: \"Grizzly bear\", 2: \"Teddy bear\"}\n",
        "transform = transforms.Compose([\n",
        "    transforms.Resize((128, 128)),\n",
        "    transforms.ToTensor()\n",
        "])"
      ],
      "execution_count": 197,
      "outputs": []
    },
    {
      "cell_type": "code",
      "metadata": {
        "id": "TGlcTjnb8gv1",
        "colab_type": "code",
        "colab": {}
      },
      "source": [
        "def load_dataset(path=path, bs=1, transform=transform, train=True):\n",
        "  imgs = ImageFolder(root=path, transform=transform)\n",
        "\n",
        "  dataloader = DataLoader(imgs, bs, shuffle=train)\n",
        "\n",
        "  return dataloader\n",
        "\n",
        "def show_batch(dataloader, rows, cols):\n",
        "  \n",
        "  for i, (img, label) in enumerate(dataloader):\n",
        "    plt.subplot(rows, cols, i+1)\n",
        "    plt.imshow(np.transpose(img[0].numpy(), (1, 2, 0)))\n",
        "    plt.title(target[label[0].item()])\n",
        "    plt.xticks([])\n",
        "    plt.yticks([])"
      ],
      "execution_count": 200,
      "outputs": []
    },
    {
      "cell_type": "code",
      "metadata": {
        "id": "iTuvJzqp-a30",
        "colab_type": "code",
        "colab": {
          "base_uri": "https://localhost:8080/",
          "height": 149
        },
        "outputId": "d7d9f6a6-c086-4617-fc08-1dc3d4869dac"
      },
      "source": [
        "trainloader = load_dataset()\n",
        "show_batch(trainloader, 1, 3)"
      ],
      "execution_count": 201,
      "outputs": [
        {
          "output_type": "display_data",
          "data": {
            "image/png": "[encoded data removed]",
            "text/plain": [
              "<Figure size 432x288 with 3 Axes>"
            ]
          },
          "metadata": {
            "tags": []
          }
        }
      ]
    },
    {
      "cell_type": "code",
      "metadata": {
        "id": "2tMUUG93bvyz",
        "colab_type": "code",
        "colab": {}
      },
      "source": [
        "model = models.resnet18(pretrained=True)"
      ],
      "execution_count": 210,
      "outputs": []
    },
    {
      "cell_type": "code",
      "metadata": {
        "id": "VMx7W6LNdlnC",
        "colab_type": "code",
        "colab": {}
      },
      "source": [
        "for params in model.parameters():\n",
        "  params.requires_grad = False\n",
        "\n",
        "model.fc = torch.nn.Linear(model.fc.in_features, 3)"
      ],
      "execution_count": 211,
      "outputs": []
    },
    {
      "cell_type": "code",
      "metadata": {
        "id": "QEF79XXzbOvR",
        "colab_type": "code",
        "colab": {}
      },
      "source": [
        "criterion = torch.nn.CrossEntropyLoss()\n",
        "opt = optim.SGD(model.parameters(), lr=0.003, momentum=0.9)"
      ],
      "execution_count": 212,
      "outputs": []
    },
    {
      "cell_type": "code",
      "metadata": {
        "id": "4ghsin-k-97C",
        "colab_type": "code",
        "colab": {
          "base_uri": "https://localhost:8080/",
          "height": 935,
          "referenced_widgets": [
            "c48f4773895041f79ded3518e6813de8",
            "1f60907e7fe04993b15828d84b64f20b",
            "7d263269a8934ac4a7f870bc2db9e6fe",
            "2b2b41e60e3c49029424ed31c01825a0",
            "e89a12a3214e488bbfa8734cff528d55",
            "2520469a5e5a4528ac7d208e5b1d3a56",
            "24d569b597634e08b3216fc26d332e0a",
            "ee39e572981c4f97b1263adb0c5c2545"
          ]
        },
        "outputId": "2007f01e-dd58-45c6-db33-6ae5f50eb2e9"
      },
      "source": [
        "epochs = 50\n",
        "\n",
        "model.train()\n",
        "for epoch in tqdm(range(epochs), total=epochs):\n",
        "  for img, label in trainloader:\n",
        "    opt.zero_grad()\n",
        "\n",
        "    out = model(img)\n",
        "\n",
        "    loss = criterion(out, label)\n",
        "\n",
        "    loss.backward()\n",
        "\n",
        "    opt.step()\n",
        "  print(\"Epoch: {}  Loss: {}\".format(epoch+1, loss.item()))"
      ],
      "execution_count": 213,
      "outputs": [
        {
          "output_type": "display_data",
          "data": {
            "application/vnd.jupyter.widget-view+json": {
              "model_id": "c48f4773895041f79ded3518e6813de8",
              "version_minor": 0,
              "version_major": 2
            },
            "text/plain": [
              "HBox(children=(FloatProgress(value=0.0, max=50.0), HTML(value='')))"
            ]
          },
          "metadata": {
            "tags": []
          }
        },
        {
          "output_type": "stream",
          "text": [
            "Epoch: 1  Loss: 2.524935245513916\n",
            "Epoch: 2  Loss: 1.47915780544281\n",
            "Epoch: 3  Loss: 0.979608416557312\n",
            "Epoch: 4  Loss: 1.765559434890747\n",
            "Epoch: 5  Loss: 2.8272082805633545\n",
            "Epoch: 6  Loss: 4.070287704467773\n",
            "Epoch: 7  Loss: 2.805382251739502\n",
            "Epoch: 8  Loss: 2.6063835620880127\n",
            "Epoch: 9  Loss: 1.6863129138946533\n",
            "Epoch: 10  Loss: 0.5874850749969482\n",
            "Epoch: 11  Loss: 1.5823009014129639\n",
            "Epoch: 12  Loss: 0.8635851144790649\n",
            "Epoch: 13  Loss: 1.0072128772735596\n",
            "Epoch: 14  Loss: 2.395254373550415\n",
            "Epoch: 15  Loss: 0.7971664071083069\n",
            "Epoch: 16  Loss: 0.8302604556083679\n",
            "Epoch: 17  Loss: 1.4497296810150146\n",
            "Epoch: 18  Loss: 1.9097826480865479\n",
            "Epoch: 19  Loss: 4.317670822143555\n",
            "Epoch: 20  Loss: 0.4429343342781067\n",
            "Epoch: 21  Loss: 0.46583178639411926\n",
            "Epoch: 22  Loss: 1.6839985847473145\n",
            "Epoch: 23  Loss: 0.6117283701896667\n",
            "Epoch: 24  Loss: 0.43496593832969666\n",
            "Epoch: 25  Loss: 0.7718732953071594\n",
            "Epoch: 26  Loss: 2.8239152431488037\n",
            "Epoch: 27  Loss: 0.7041113376617432\n",
            "Epoch: 28  Loss: 3.042675733566284\n",
            "Epoch: 29  Loss: 3.389920711517334\n",
            "Epoch: 30  Loss: 1.112834095954895\n",
            "Epoch: 31  Loss: 0.7390573024749756\n",
            "Epoch: 32  Loss: 0.1978859007358551\n",
            "Epoch: 33  Loss: 0.8808304667472839\n",
            "Epoch: 34  Loss: 0.24689897894859314\n",
            "Epoch: 35  Loss: 1.4964712858200073\n",
            "Epoch: 36  Loss: 1.9946508407592773\n",
            "Epoch: 37  Loss: 1.9689252376556396\n",
            "Epoch: 38  Loss: 0.9264430999755859\n",
            "Epoch: 39  Loss: 0.7176351547241211\n",
            "Epoch: 40  Loss: 3.117192029953003\n",
            "Epoch: 41  Loss: 0.6193886399269104\n",
            "Epoch: 42  Loss: 1.4286288022994995\n",
            "Epoch: 43  Loss: 3.1464250087738037\n",
            "Epoch: 44  Loss: 0.34854504466056824\n",
            "Epoch: 45  Loss: 1.5910370349884033\n",
            "Epoch: 46  Loss: 1.0826561450958252\n",
            "Epoch: 47  Loss: 0.1455855667591095\n",
            "Epoch: 48  Loss: 0.32684001326560974\n",
            "Epoch: 49  Loss: 0.39622923731803894\n",
            "Epoch: 50  Loss: 0.5991560220718384\n",
            "\n"
          ],
          "name": "stdout"
        }
      ]
    },
    {
      "cell_type": "code",
      "metadata": {
        "id": "3sH1C2xsc5cd",
        "colab_type": "code",
        "colab": {
          "base_uri": "https://localhost:8080/",
          "height": 36
        },
        "outputId": "18bac666-be4a-40f6-9f28-ff188de7306d"
      },
      "source": [
        "model.eval()\n",
        "test_img = Image.open('/content/bear/grizzly/grizzly_bear.jpg')\n",
        "test_img = transform(test_img)\n",
        "target[torch.max(model(test_img.unsqueeze(0)), 1)[1].item()]"
      ],
      "execution_count": 216,
      "outputs": [
        {
          "output_type": "execute_result",
          "data": {
            "application/vnd.google.colaboratory.intrinsic+json": {
              "type": "string"
            },
            "text/plain": [
              "'Grizzly bear'"
            ]
          },
          "metadata": {
            "tags": []
          },
          "execution_count": 216
        }
      ]
    },
    {
      "cell_type": "code",
      "metadata": {
        "id": "YSN9ViQruoyF",
        "colab_type": "code",
        "colab": {}
      },
      "source": [
        ""
      ],
      "execution_count": null,
      "outputs": []
    }
  ]
}