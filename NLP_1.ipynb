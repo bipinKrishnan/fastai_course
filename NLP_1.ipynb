{
  "nbformat": 4,
  "nbformat_minor": 0,
  "metadata": {
    "colab": {
      "name": "NLP_1.ipynb",
      "provenance": [],
      "collapsed_sections": [],
      "authorship_tag": "ABX9TyPgdNG+mnaHQr15Lq0kl5Bf",
      "include_colab_link": true
    },
    "kernelspec": {
      "name": "python3",
      "display_name": "Python 3"
    },
    "accelerator": "GPU"
  },
  "cells": [
    {
      "cell_type": "markdown",
      "metadata": {
        "id": "view-in-github",
        "colab_type": "text"
      },
      "source": [
        "<a href=\"https://colab.research.google.com/github/bipinKrishnan/fastai_course/blob/master/NLP_1.ipynb\" target=\"_parent\"><img src=\"https://colab.research.google.com/assets/colab-badge.svg\" alt=\"Open In Colab\"/></a>"
      ]
    },
    {
      "cell_type": "code",
      "metadata": {
        "id": "91ShZvKHrwxl"
      },
      "source": [
        "!pip install fastai --upgrade"
      ],
      "execution_count": null,
      "outputs": []
    },
    {
      "cell_type": "code",
      "metadata": {
        "id": "naweUQELqskH"
      },
      "source": [
        "from fastai.text.all import *\n",
        "import numpy as np\n",
        "import pandas as pd\n",
        "\n",
        "from IPython.core.display import display, HTML"
      ],
      "execution_count": 2,
      "outputs": []
    },
    {
      "cell_type": "code",
      "metadata": {
        "id": "UF3gmJl0r50A",
        "outputId": "10c4b704-4d61-42a3-d9ef-f7909699619c",
        "colab": {
          "base_uri": "https://localhost:8080/",
          "height": 34
        }
      },
      "source": [
        "path = untar_data(URLs.IMDB)\n",
        "(path/'..').ls()"
      ],
      "execution_count": 3,
      "outputs": [
        {
          "output_type": "display_data",
          "data": {
            "text/html": [
              ""
            ],
            "text/plain": [
              "<IPython.core.display.HTML object>"
            ]
          },
          "metadata": {
            "tags": []
          }
        },
        {
          "output_type": "execute_result",
          "data": {
            "text/plain": [
              "(#1) [Path('/root/.fastai/data/imdb/../imdb')]"
            ]
          },
          "metadata": {
            "tags": []
          },
          "execution_count": 3
        }
      ]
    },
    {
      "cell_type": "markdown",
      "metadata": {
        "id": "39qQ-lEf7cNN"
      },
      "source": [
        "## Tokenization"
      ]
    },
    {
      "cell_type": "code",
      "metadata": {
        "id": "GzFarln6sJl6"
      },
      "source": [
        "txt_files = get_text_files(path, folders=['train', 'test', 'unsup'])"
      ],
      "execution_count": 4,
      "outputs": []
    },
    {
      "cell_type": "code",
      "metadata": {
        "id": "BHTwZtx2shA6",
        "outputId": "c0cc1f37-ced1-4a2f-f663-c908d2265a4b",
        "colab": {
          "base_uri": "https://localhost:8080/",
          "height": 122
        }
      },
      "source": [
        "txt = txt_files[0].open().read()\n",
        "txt"
      ],
      "execution_count": 5,
      "outputs": [
        {
          "output_type": "execute_result",
          "data": {
            "application/vnd.google.colaboratory.intrinsic+json": {
              "type": "string"
            },
            "text/plain": [
              "'I still can\\'t figure out why any self-respecting person would ever attempt to make a film that is as stupid as In The Woods. Or better yet, why any decent person would ever rent, let alone buy, this piece of utter garbage.<br /><br />I think the writer should win the award for the dumbest storyline ever made into an actual movie.<br /><br />Everything about this movie just screams of stupidity. The acting is very mechanical and fake, the special effects (if you can call them that) and the \"scary monster\" seem like they\\'re from an old 80\\'s PBS tv show.<br /><br />Well, the list goes on and on. I won\\'t bore you with all the details, if you want to be super bored you can go out and rent this movie!'"
            ]
          },
          "metadata": {
            "tags": []
          },
          "execution_count": 5
        }
      ]
    },
    {
      "cell_type": "code",
      "metadata": {
        "id": "PaC7AHAftz6Y",
        "outputId": "34fc7f7d-b7db-405f-83fd-270a116b1bde",
        "colab": {
          "base_uri": "https://localhost:8080/",
          "height": 72
        }
      },
      "source": [
        "tokenizer = WordTokenizer()\n",
        "toks = first(tokenizer([txt]))\n",
        "\n",
        "print(f'{coll_repr(toks, 30)}\\n{toks}')"
      ],
      "execution_count": 6,
      "outputs": [
        {
          "output_type": "stream",
          "text": [
            "(#151) ['I','still','ca',\"n't\",'figure','out','why','any','self','-','respecting','person','would','ever','attempt','to','make','a','film','that','is','as','stupid','as','In','The','Woods','.','Or','better'...]\n",
            "(#151) ['I','still','ca',\"n't\",'figure','out','why','any','self','-'...]\n"
          ],
          "name": "stdout"
        }
      ]
    },
    {
      "cell_type": "code",
      "metadata": {
        "id": "V6c38dQAwI6s",
        "outputId": "69c6132f-b543-43fb-c3a2-5e45c0e3ae4a",
        "colab": {
          "base_uri": "https://localhost:8080/",
          "height": 34
        }
      },
      "source": [
        "first(tokenizer([\"I'm going to U.S.A tomorrow.\"]))"
      ],
      "execution_count": 7,
      "outputs": [
        {
          "output_type": "execute_result",
          "data": {
            "text/plain": [
              "(#7) ['I',\"'m\",'going','to','U.S.A','tomorrow','.']"
            ]
          },
          "metadata": {
            "tags": []
          },
          "execution_count": 7
        }
      ]
    },
    {
      "cell_type": "code",
      "metadata": {
        "id": "jhUhHzKsu0AT",
        "outputId": "bd590f47-751d-4c7c-e51a-805f865c874e",
        "colab": {
          "base_uri": "https://localhost:8080/",
          "height": 34
        }
      },
      "source": [
        "first(tokenizer([[\"I'm going to U.S.A tomorrow.\"], [\"Hey there how are you ?\"]]))"
      ],
      "execution_count": 8,
      "outputs": [
        {
          "output_type": "execute_result",
          "data": {
            "text/plain": [
              "(#11) ['[','\"','I',\"'m\",'going','to','U.S.A','tomorrow','.','\"'...]"
            ]
          },
          "metadata": {
            "tags": []
          },
          "execution_count": 8
        }
      ]
    },
    {
      "cell_type": "markdown",
      "metadata": {
        "id": "OBOON2bDxdN6"
      },
      "source": [
        "Fatsai's **Tokenizer** class adds some additional tokenizing functionality to the **WordTokenizer** class"
      ]
    },
    {
      "cell_type": "code",
      "metadata": {
        "id": "b58kVpFDvt-U"
      },
      "source": [
        "tkn = Tokenizer(tokenizer)"
      ],
      "execution_count": 9,
      "outputs": []
    },
    {
      "cell_type": "code",
      "metadata": {
        "id": "xmR3aJmAxudX",
        "outputId": "e020cc29-209e-46e7-d1f0-5accb12c8d29",
        "colab": {
          "base_uri": "https://localhost:8080/",
          "height": 34
        }
      },
      "source": [
        "tkn(txt)"
      ],
      "execution_count": 10,
      "outputs": [
        {
          "output_type": "execute_result",
          "data": {
            "text/plain": [
              "(#163) ['xxbos','i','still','ca',\"n't\",'figure','out','why','any','self'...]"
            ]
          },
          "metadata": {
            "tags": []
          },
          "execution_count": 10
        }
      ]
    },
    {
      "cell_type": "code",
      "metadata": {
        "id": "cxSYwA6bxyWd",
        "outputId": "0eb34c1f-fa07-4e0a-b27b-05caaf184db0",
        "colab": {
          "base_uri": "https://localhost:8080/",
          "height": 156
        }
      },
      "source": [
        "defaults.text_proc_rules"
      ],
      "execution_count": 11,
      "outputs": [
        {
          "output_type": "execute_result",
          "data": {
            "text/plain": [
              "[<function fastai.text.core.fix_html>,\n",
              " <function fastai.text.core.replace_rep>,\n",
              " <function fastai.text.core.replace_wrep>,\n",
              " <function fastai.text.core.spec_add_spaces>,\n",
              " <function fastai.text.core.rm_useless_spaces>,\n",
              " <function fastai.text.core.replace_all_caps>,\n",
              " <function fastai.text.core.replace_maj>,\n",
              " <function fastai.text.core.lowercase>]"
            ]
          },
          "metadata": {
            "tags": []
          },
          "execution_count": 11
        }
      ]
    },
    {
      "cell_type": "code",
      "metadata": {
        "id": "7dEjSjagyU6l"
      },
      "source": [
        "??fix_html"
      ],
      "execution_count": 12,
      "outputs": []
    },
    {
      "cell_type": "code",
      "metadata": {
        "id": "XHZNAVAzyyOm"
      },
      "source": [
        "x = 'how are you, I && my sister'"
      ],
      "execution_count": 13,
      "outputs": []
    },
    {
      "cell_type": "code",
      "metadata": {
        "id": "Mh2bJr2QzDbV",
        "outputId": "a35d12de-fb94-4c55-823a-c76069b6b400",
        "colab": {
          "base_uri": "https://localhost:8080/",
          "height": 35
        }
      },
      "source": [
        "x.replace('&&', '&').replace(',', ' ').replace('  ', ' ')"
      ],
      "execution_count": 14,
      "outputs": [
        {
          "output_type": "execute_result",
          "data": {
            "application/vnd.google.colaboratory.intrinsic+json": {
              "type": "string"
            },
            "text/plain": [
              "'how are you I & my sister'"
            ]
          },
          "metadata": {
            "tags": []
          },
          "execution_count": 14
        }
      ]
    },
    {
      "cell_type": "code",
      "metadata": {
        "id": "U4YUUb1-0eB2",
        "outputId": "f8a36688-f687-482d-d413-169bf8d581cd",
        "colab": {
          "base_uri": "https://localhost:8080/",
          "height": 34
        }
      },
      "source": [
        "L(['JDKSLK', 'djksdj', 'djlskdlk', 2])"
      ],
      "execution_count": 15,
      "outputs": [
        {
          "output_type": "execute_result",
          "data": {
            "text/plain": [
              "(#4) ['JDKSLK','djksdj','djlskdlk',2]"
            ]
          },
          "metadata": {
            "tags": []
          },
          "execution_count": 15
        }
      ]
    },
    {
      "cell_type": "code",
      "metadata": {
        "id": "zuYpOv4o2Rb3",
        "outputId": "b1820b94-49d9-4bd8-8afd-d2bd086017aa",
        "colab": {
          "base_uri": "https://localhost:8080/",
          "height": 54
        }
      },
      "source": [
        "sample_txt = L([files.open().read() for files in txt_files[:2000]])\n",
        "sample_txt"
      ],
      "execution_count": 16,
      "outputs": [
        {
          "output_type": "execute_result",
          "data": {
            "text/plain": [
              "(#2000) ['I still can\\'t figure out why any self-respecting person would ever attempt to make a film that is as stupid as In The Woods. Or better yet, why any decent person would ever rent, let alone buy, this piece of utter garbage.<br /><br />I think the writer should win the award for the dumbest storyline ever made into an actual movie.<br /><br />Everything about this movie just screams of stupidity. The acting is very mechanical and fake, the special effects (if you can call them that) and the \"scary monster\" seem like they\\'re from an old 80\\'s PBS tv show.<br /><br />Well, the list goes on and on. I won\\'t bore you with all the details, if you want to be super bored you can go out and rent this movie!',\"There is so much tragedy that takes place in the world involving the military and others involved in physical conflict, yet it is rare that a soldier comes forward to tell the truth. In Shake Hands with the Devil: The Journey of Roméo Dallaire, we are lucky to have not just a soldier, but a leader who took so much responsibility for the Rwandan genocide onto himself explaining through word and deed what happened there, and its meaning. This is a wonderful documentary, and a moving story about an honest man's quest to understand the difficulty and horror he experienced. It is impossible not to be emotionally moved by Dallaire's story, and the well-crafted way in which it is told.\",\"This was a terrible movie with a bad plot line. They repeated the same story line as the first but with a different love interest for the same main character. The girl that they got to play Sara however was a terrible actress and was like watching a bad car crash. They had her in red gothy lipstick throughout the entire film that was distracting and unlike Sara. I can't even remember the dancing or the music because all I could think of was how bad this movie is. It totally ruined a great movie and now I am going to have to try to forget that I ever saw it in the first place. I honestly only watched it because it was on t.v. and there was nothing better to watch. It did not relay the message as the first one did. It sent out weird racial messages and was a disgusting display of how Hollywood is out of original ideas. I'd hate to be the writer of this script.\",'What a waste of talent and cinematography. I saw the DVD version and the photography and setting was great; very crisp and rich. The casting was fine and the script was a proven one. Must have been really bad direction?? Car chases were fine, but I especially enjoyed the one in the Christmas tree lot! I thought it also kind of totally fell apart in the last 1/3',\"I thought I could never find a completely bad movie. Well, I found it. It's this movie. This has to be the' worst movie ever made. Everyone over acts, there is no flow to the movie. Shakespeare will role over his grave every time someone sees this ruined version. I strongly recommend not seeing this movie.\",\"I first saw this film when my mother bought it on VHS in a store... I think I was about seven. I loved it from the moment I first watched it, and even now, at nineteen, it's still one of my favorite movies.<br /><br />Now, I realize the effects aren't that great and the ADR is horrible--but as fairytales go, it's among the best. I found the plot to be better translated to film than that of The Neverending Story (which is one of my favorite books--but not one of my favorite movies), and the music is wonderful. Watching the movie was very reminiscent to reading The Chronicles of Narnia, or in fact reading a British translation of Astrid Lindgren's book.<br /><br />This is still my favorite of Christian Bale's many roles, and among my favorite Christopher Lee roles (the man has over 700, so it's hard to pick faves sometimes ^_^).<br /><br />A classic for children and families, I must say. (And coming from a cynical college student, that's saying something!)\",'I have a very hard time picking a favorite, favorite film, but if forced to create a Top 10 List, this film would be there. Yes, Liza Minnelli CAN act , and brilliantly. The songs are wonderful and funny, the narrative is brilliant and dark. Those who typically don\\'t like musicals might enjoy this, as there are none of those cheesy \"I feel a song coming on\" moments - - all of the music is confined to the stage of the Kit Kat Klub. Michael York\\'s role is often overshadowed by Minnelli\\'s brassy Sally Bowles, but his work is equally strong. A+.',\"A group of friends are out partying one night, when they decide to try out an Oujia board and contact some spirits. Whilst doing it, they do get in contact with someone, a demon who is back from the dead and has gotten into there world. The only way for the demon to go back to where it came from is if he kills whole group friends who let him out in the first place. A strange old man who happens to be the landlord of there house claims that one of them has the demon inside of them, but no one believes him. It is true though......<br /><br />Long Time Dead a good British horror/thriller movie, with some creepy moments in it, like the flashback scenes. There are also some little twists along the way as well. The acting from everyone is good too. If you enjoy movies like this, then I'm sure you will enjoy Long Time Dead. I give Long Time Dead a 8-9/10.\",'Some films are mediocre, some films are bad, but still other films are so misconceived and poorly executed that the film-makers should be embarrassed of themselves. \"Kull\" is exactly that film, and it\\'s more fun to laugh at its unintentional idiocy than to make any attempt to take it seriously as fantasy. At any rate the film-makers also took care of that possibility by filling the sorry affair with so much contemporary humor in a pathetic attempt to imitate the formula of the \"Hercules\" TV show that starred the same \"actor\" who appears in this film, Kevin Sorbo.<br /><br />It didn\\'t have to be this way. King Kull is one of the more interesting characters created by the legendary 1930s pulp writer Robert E. Howard, famous for Conan. Howard\\'s writing has been mostly insulted and degraded by these film versions -- but this one is so awful it makes \"Conan the Destroyer\" look like \"Lord of the Rings.\" It makes \"Red Sonja\" look like \"Jason and the Argonauts.\" And it makes \"Conan the Barbarian\" look like \"Citizen Kane.\" I actually paid to see this in the theater because I\\'m such a big Robert Howard fan. It was so disappointing that I had to give it a spin on DVD just to see if it could really be as bad as I remembered it. It\\'s far worse than any memory can convey. Right away, you have probably the worst music I\\'ve ever heard in a film, a combination of mock-Wagner and mock-Megadeth. Electric guitars on the soundtrack are an especially poor harbinger for a film supposedly set in ancient history. Then you start to notice that all the characters look like roadies for Spinal Tap, and the main villain dude has a mullet that would make Billy Ray Cyrus jealous. So maybe it all makes sense in a twisted way... apparently this was a demographic they were shooting for; perhaps they even advertised this film on WWF smack-down.<br /><br />There\\'s no getting around what limits the movie the most -- basically the entire cast is wrong and incompetent. Kevin Sorbo always seems like a nice guy, and little else. He\\'s all wrong to play a sadistic barbarian, but the film-makers have solved that problem by removing all traces of Kull\\'s personality and all signs that he was created by Robert Howard, or you could say all signs that he was created by anyone other than a market research survey group. He\\'s polite, soft-spoken, respectful of women, and he wants to free all the slaves. He\\'s a hero -- a character who has no business in a Robert Howard story. Just once I\\'d like to see this great writer\\'s stories rendered in a way that isn\\'t just to turn all the characters into generic knights in shining armor. Doing that to his world and his characters is like making a Disney movie about the Donner Party. I can understand why a lot of people look down on writing like his, because they assume it\\'s actually junk like this movie.<br /><br />It doesn\\'t stop there, but I get too tired of thinking about it to go on. Sorbo is the least of our worries in the cast actually, considering that Harvey Fierstein is painfully hammy (and his character seems modeled on a dull character from the TV show), and the director seems to have thought it was a good idea to give all the heavy acting scenes to Tia Carrere. Her misbegotten performance lends the movie most of its laugh factor. This movie is cheap and ugly looking -- I would guess that they spent more money on the lame \"Merlin\" miniseries in the 90s than they did on this movie which was foisted on theater audiences. Not only that, but the director has no taste and no talent for cinema at all. Everything is shot in a bland and generic way so that none of it seems infused with any kind of power or majesty. Whatever the faults of Milius\\' original Conan film, and there are many, at the very least he attempted to get the dark atmosphere of Howard\\'s world right and to convey some fraction of the characters\\' fatalism. Unless the new \"Solomon Kane\" film is a huge surprise, it will be the only example of somebody even attempting something different of this type in a fantasy movie for a long time.',\"i don't mind the movies not being the real world, i don't mind magical, unlikely or challenging, even illogical but half-baked, over-flagged nonsense is simply disappointing. There seems to have been a good idea for a film here as others wrote but its impossible not see what's coming. In fact I thought well perhaps there'll be some twist I'm not expecting.... no, not really. Oh well, I do like Cuba though. I just wish he didn't have to look so uncomfortable.\"...]"
            ]
          },
          "metadata": {
            "tags": []
          },
          "execution_count": 16
        }
      ]
    },
    {
      "cell_type": "code",
      "metadata": {
        "id": "LlhubgEp4DdJ",
        "outputId": "149d9a73-7303-4d49-fd02-7faba8405b34",
        "colab": {
          "base_uri": "https://localhost:8080/",
          "height": 124
        }
      },
      "source": [
        "!pip install sentencepiece!=0.1.90,!=0.1.91"
      ],
      "execution_count": 17,
      "outputs": [
        {
          "output_type": "stream",
          "text": [
            "Collecting sentencepiece!=0.1.90,!=0.1.91\n",
            "\u001b[?25l  Downloading https://files.pythonhosted.org/packages/98/2c/8df20f3ac6c22ac224fff307ebc102818206c53fc454ecd37d8ac2060df5/sentencepiece-0.1.86-cp36-cp36m-manylinux1_x86_64.whl (1.0MB)\n",
            "\u001b[K     |████████████████████████████████| 1.0MB 5.4MB/s \n",
            "\u001b[?25hInstalling collected packages: sentencepiece\n",
            "Successfully installed sentencepiece-0.1.86\n"
          ],
          "name": "stdout"
        }
      ]
    },
    {
      "cell_type": "code",
      "metadata": {
        "id": "N4xL9UTR2ffu"
      },
      "source": [
        "def subword(sz):\n",
        "  st = SubwordTokenizer(vocab_sz=sz)\n",
        "  st.setup(sample_txt)\n",
        "\n",
        "  return ' '.join(first(st([txt]))[:40])"
      ],
      "execution_count": 18,
      "outputs": []
    },
    {
      "cell_type": "code",
      "metadata": {
        "id": "AZIa2PqV39HL",
        "outputId": "53fc4f49-f369-407d-b32b-4c9a2267baca",
        "colab": {
          "base_uri": "https://localhost:8080/",
          "height": 53
        }
      },
      "source": [
        "subword(1000)"
      ],
      "execution_count": 19,
      "outputs": [
        {
          "output_type": "display_data",
          "data": {
            "text/html": [
              ""
            ],
            "text/plain": [
              "<IPython.core.display.HTML object>"
            ]
          },
          "metadata": {
            "tags": []
          }
        },
        {
          "output_type": "execute_result",
          "data": {
            "application/vnd.google.colaboratory.intrinsic+json": {
              "type": "string"
            },
            "text/plain": [
              "\"▁I ▁still ▁can ' t ▁figure ▁out ▁why ▁any ▁self - re s p ect ing ▁person ▁would ▁ever ▁attempt ▁to ▁make ▁a ▁film ▁that ▁is ▁as ▁stupid ▁as ▁In ▁The ▁W ood s . ▁O r ▁better ▁yet ,\""
            ]
          },
          "metadata": {
            "tags": []
          },
          "execution_count": 19
        }
      ]
    },
    {
      "cell_type": "markdown",
      "metadata": {
        "id": "0kudw3Ay47e1"
      },
      "source": [
        "Increasing vocab size decreases number of characters in a token and vice-versa"
      ]
    },
    {
      "cell_type": "code",
      "metadata": {
        "id": "dq4H0ujV3_pU",
        "outputId": "b122ab1a-56f8-49cc-b3cc-02b14ad0455b",
        "colab": {
          "base_uri": "https://localhost:8080/",
          "height": 35
        }
      },
      "source": [
        "subword(200)"
      ],
      "execution_count": 20,
      "outputs": [
        {
          "output_type": "display_data",
          "data": {
            "text/html": [
              ""
            ],
            "text/plain": [
              "<IPython.core.display.HTML object>"
            ]
          },
          "metadata": {
            "tags": []
          }
        },
        {
          "output_type": "execute_result",
          "data": {
            "application/vnd.google.colaboratory.intrinsic+json": {
              "type": "string"
            },
            "text/plain": [
              "\"▁I ▁st i l l ▁c an ' t ▁f i g u re ▁ o u t ▁w h y ▁ an y ▁ s e l f - re s p e c t ing ▁p er s\""
            ]
          },
          "metadata": {
            "tags": []
          },
          "execution_count": 20
        }
      ]
    },
    {
      "cell_type": "code",
      "metadata": {
        "id": "gKZhRRko4rOL",
        "outputId": "b7e9b6fc-783a-4905-cbab-00073819d1a3",
        "colab": {
          "base_uri": "https://localhost:8080/",
          "height": 53
        }
      },
      "source": [
        "subword(10000)"
      ],
      "execution_count": 21,
      "outputs": [
        {
          "output_type": "display_data",
          "data": {
            "text/html": [
              ""
            ],
            "text/plain": [
              "<IPython.core.display.HTML object>"
            ]
          },
          "metadata": {
            "tags": []
          }
        },
        {
          "output_type": "execute_result",
          "data": {
            "application/vnd.google.colaboratory.intrinsic+json": {
              "type": "string"
            },
            "text/plain": [
              "\"▁I ▁still ▁can ' t ▁figure ▁out ▁why ▁any ▁self - respect ing ▁person ▁would ▁ever ▁attempt ▁to ▁make ▁a ▁film ▁that ▁is ▁as ▁stupid ▁as ▁In ▁The ▁Wood s . ▁Or ▁better ▁yet , ▁why ▁any ▁decent ▁person ▁would\""
            ]
          },
          "metadata": {
            "tags": []
          },
          "execution_count": 21
        }
      ]
    },
    {
      "cell_type": "markdown",
      "metadata": {
        "id": "0ebmT5mu5hC6"
      },
      "source": [
        "Picking a **subword vocab size** represents a compromise: a **larger vocab** means **fewer tokens per sentence**, which means **faster training, less memory, and less state for the model to remember**; but on the **downside**, it means **larger embedding matrices**, which **require more data to learn**"
      ]
    },
    {
      "cell_type": "markdown",
      "metadata": {
        "id": "U3w9Mo0R7faZ"
      },
      "source": [
        "## Numericalization\n",
        "\n",
        "\n",
        "Numericalization is the process of mapping tokens to integers"
      ]
    },
    {
      "cell_type": "code",
      "metadata": {
        "id": "pSzOwAwo5X41"
      },
      "source": [
        "tokens = tkn(txt)"
      ],
      "execution_count": 22,
      "outputs": []
    },
    {
      "cell_type": "code",
      "metadata": {
        "id": "xtv3-XOM7v2V",
        "outputId": "1232c3a8-8f7b-4669-e961-07002845a428",
        "colab": {
          "base_uri": "https://localhost:8080/",
          "height": 54
        }
      },
      "source": [
        "#map applies tkn function each list of text in sample_txt\n",
        "toks200 = sample_txt[:200].map(tkn)\n",
        "toks200"
      ],
      "execution_count": 23,
      "outputs": [
        {
          "output_type": "execute_result",
          "data": {
            "text/plain": [
              "(#200) [(#163) ['xxbos','i','still','ca',\"n't\",'figure','out','why','any','self'...],(#149) ['xxbos','xxmaj','there','is','so','much','tragedy','that','takes','place'...],(#196) ['xxbos','xxmaj','this','was','a','terrible','movie','with','a','bad'...],(#85) ['xxbos','xxmaj','what','a','waste','of','talent','and','cinematography','.'...],(#73) ['xxbos','i','thought','i','could','never','find','a','completely','bad'...],(#228) ['xxbos','i','first','saw','this','film','when','my','mother','bought'...],(#138) ['xxbos','i','have','a','very','hard','time','picking','a','favorite'...],(#211) ['xxbos','a','group','of','friends','are','out','partying','one','night'...],(#917) ['xxbos','xxmaj','some','films','are','mediocre',',','some','films','are'...],(#110) ['xxbos','i','do',\"n't\",'mind','the','movies','not','being','the'...]...]"
            ]
          },
          "metadata": {
            "tags": []
          },
          "execution_count": 23
        }
      ]
    },
    {
      "cell_type": "code",
      "metadata": {
        "id": "bwn1GcHn8leE"
      },
      "source": [
        "num = Numericalize()\n",
        "num.setup(toks200)"
      ],
      "execution_count": 24,
      "outputs": []
    },
    {
      "cell_type": "code",
      "metadata": {
        "id": "nbugSUbS9YQA",
        "outputId": "02eb2ee0-03f1-455e-ca4f-36b9c2dcd0d8",
        "colab": {
          "base_uri": "https://localhost:8080/",
          "height": 34
        }
      },
      "source": [
        "num.vocab[:5]"
      ],
      "execution_count": 25,
      "outputs": [
        {
          "output_type": "execute_result",
          "data": {
            "text/plain": [
              "['xxunk', 'xxpad', 'xxbos', 'xxeos', 'xxfld']"
            ]
          },
          "metadata": {
            "tags": []
          },
          "execution_count": 25
        }
      ]
    },
    {
      "cell_type": "code",
      "metadata": {
        "id": "Z748z_jh9oxP",
        "outputId": "5d117e39-57e7-413f-c8ee-c2ac8e14741e",
        "colab": {
          "base_uri": "https://localhost:8080/",
          "height": 54
        }
      },
      "source": [
        "print(coll_repr(num.vocab, 30))"
      ],
      "execution_count": 26,
      "outputs": [
        {
          "output_type": "stream",
          "text": [
            "(#2024) ['xxunk','xxpad','xxbos','xxeos','xxfld','xxrep','xxwrep','xxup','xxmaj','the','.',',','a','and','of','to','is','in','i','it','\"','this','that',\"'s\",'\\n\\n','-','was','as','with','for'...]\n"
          ],
          "name": "stdout"
        }
      ]
    },
    {
      "cell_type": "code",
      "metadata": {
        "id": "mJG-P1dq9tqD",
        "outputId": "f9a80856-2eac-4a15-f5ad-fb12e3d9429d",
        "colab": {
          "base_uri": "https://localhost:8080/",
          "height": 52
        }
      },
      "source": [
        "num(tokens)[:20]"
      ],
      "execution_count": 27,
      "outputs": [
        {
          "output_type": "execute_result",
          "data": {
            "text/plain": [
              "tensor([  2,  18, 138, 190,  39, 720,  62, 154, 113, 721,  25,   0, 295,  68,\n",
              "        155, 502,  15, 122,  12,  30])"
            ]
          },
          "metadata": {
            "tags": []
          },
          "execution_count": 27
        }
      ]
    },
    {
      "cell_type": "code",
      "metadata": {
        "id": "ugUYKc87-D5B",
        "outputId": "0d391f15-b9f7-498b-d20a-7b5d6cd5303b",
        "colab": {
          "base_uri": "https://localhost:8080/",
          "height": 34
        }
      },
      "source": [
        "tokens"
      ],
      "execution_count": 28,
      "outputs": [
        {
          "output_type": "execute_result",
          "data": {
            "text/plain": [
              "(#163) ['xxbos','i','still','ca',\"n't\",'figure','out','why','any','self'...]"
            ]
          },
          "metadata": {
            "tags": []
          },
          "execution_count": 28
        }
      ]
    },
    {
      "cell_type": "markdown",
      "metadata": {
        "id": "exttXo7o_sB5"
      },
      "source": [
        "Building a numericalization function"
      ]
    },
    {
      "cell_type": "code",
      "metadata": {
        "id": "WQ3k31ML-VtE"
      },
      "source": [
        "def token2idx(token):\n",
        "  try: \n",
        "    return (num.vocab.index(token))\n",
        "  except ValueError:\n",
        "    return (\"unk\")"
      ],
      "execution_count": 29,
      "outputs": []
    },
    {
      "cell_type": "code",
      "metadata": {
        "id": "Kj7WL-9v-sEw",
        "outputId": "47a9fedc-9171-46d6-e8a7-17ccacacbb25",
        "colab": {
          "base_uri": "https://localhost:8080/",
          "height": 34
        }
      },
      "source": [
        "token2idx('xxbos'), token2idx('his'), token2idx('jdksjdj'), token2idx(4) "
      ],
      "execution_count": 30,
      "outputs": [
        {
          "output_type": "execute_result",
          "data": {
            "text/plain": [
              "(2, 43, 'unk', 'unk')"
            ]
          },
          "metadata": {
            "tags": []
          },
          "execution_count": 30
        }
      ]
    },
    {
      "cell_type": "code",
      "metadata": {
        "id": "E9f8wFd3AbWI",
        "outputId": "ceb9fa78-bbdd-4f44-ec27-21de2c5f5669",
        "colab": {
          "base_uri": "https://localhost:8080/",
          "height": 35
        }
      },
      "source": [
        "' '.join(num.vocab[idx] for idx in num(tokens)[:20])"
      ],
      "execution_count": 31,
      "outputs": [
        {
          "output_type": "execute_result",
          "data": {
            "application/vnd.google.colaboratory.intrinsic+json": {
              "type": "string"
            },
            "text/plain": [
              "\"xxbos i still ca n't figure out why any self - xxunk person would ever attempt to make a film\""
            ]
          },
          "metadata": {
            "tags": []
          },
          "execution_count": 31
        }
      ]
    },
    {
      "cell_type": "code",
      "metadata": {
        "id": "RFDoiif3Bt0X"
      },
      "source": [
        "original_text = \"In this chapter, we will go back over the example of classifying movie reviews we studied in chapter 1 and dig deeper under the surface. First we will look at the processing steps necessary to convert text into numbers and how to customize it. By doing this, we'll have another example of the PreProcessor used in the data block API.\\nThen we will study how we build a language model and train it for a while.\"\n",
        "original_preprocessed_text = \"xxbos xxmaj in this chapter , we will go back over the example of classifying movie reviews we studied in chapter 1 and dig deeper under the surface . xxmaj first we will look at the processing steps necessary to convert text into numbers and how to customize it . xxmaj by doing this , we 'll have another example of the preprocessor used in the data block xxup api . \\n xxmaj then we will study how we build a language model and train it for a while .\""
      ],
      "execution_count": 32,
      "outputs": []
    },
    {
      "cell_type": "code",
      "metadata": {
        "id": "vkWlUnezC6Hp",
        "outputId": "3b105814-40d8-4952-bbea-453c0080559a",
        "colab": {
          "base_uri": "https://localhost:8080/",
          "height": 87
        }
      },
      "source": [
        "my_preprocessed_text = ' '.join(tkn(original_text))\n",
        "my_preprocessed_text"
      ],
      "execution_count": 33,
      "outputs": [
        {
          "output_type": "execute_result",
          "data": {
            "application/vnd.google.colaboratory.intrinsic+json": {
              "type": "string"
            },
            "text/plain": [
              "\"xxbos xxmaj in this chapter , we will go back over the example of classifying movie reviews we studied in chapter 1 and dig deeper under the surface . xxmaj first we will look at the processing steps necessary to convert text into numbers and how to customize it . xxmaj by doing this , we 'll have another example of the preprocessor used in the data block xxup api . \\n xxmaj then we will study how we build a language model and train it for a while .\""
            ]
          },
          "metadata": {
            "tags": []
          },
          "execution_count": 33
        }
      ]
    },
    {
      "cell_type": "code",
      "metadata": {
        "id": "kD6qSi0jDYKS",
        "outputId": "42e81e70-66d1-4bf8-f2c1-3f9675df8020",
        "colab": {
          "base_uri": "https://localhost:8080/",
          "height": 34
        }
      },
      "source": [
        "original_preprocessed_text == my_preprocessed_text"
      ],
      "execution_count": 34,
      "outputs": [
        {
          "output_type": "execute_result",
          "data": {
            "text/plain": [
              "True"
            ]
          },
          "metadata": {
            "tags": []
          },
          "execution_count": 34
        }
      ]
    },
    {
      "cell_type": "code",
      "metadata": {
        "id": "7zLrgK3TFEmB",
        "outputId": "943e61e8-3e3f-44c7-f57d-d515ff98cbf9",
        "colab": {
          "base_uri": "https://localhost:8080/",
          "height": 121
        }
      },
      "source": [
        "bs, seq_len = 6, 15\n",
        "stream = tkn(original_text)\n",
        "\n",
        "[stream[i*seq_len: (i+1)*seq_len] for i in range(bs)]"
      ],
      "execution_count": 35,
      "outputs": [
        {
          "output_type": "execute_result",
          "data": {
            "text/plain": [
              "[(#15) ['xxbos','xxmaj','in','this','chapter',',','we','will','go','back'...],\n",
              " (#15) ['movie','reviews','we','studied','in','chapter','1','and','dig','deeper'...],\n",
              " (#15) ['first','we','will','look','at','the','processing','steps','necessary','to'...],\n",
              " (#15) ['how','to','customize','it','.','xxmaj','by','doing','this',','...],\n",
              " (#15) ['of','the','preprocessor','used','in','the','data','block','xxup','api'...],\n",
              " (#15) ['will','study','how','we','build','a','language','model','and','train'...]]"
            ]
          },
          "metadata": {
            "tags": []
          },
          "execution_count": 35
        }
      ]
    },
    {
      "cell_type": "code",
      "metadata": {
        "id": "5BHAuAuIFQYk",
        "outputId": "141bd75c-70f2-46d0-a5e5-86131e5af93d",
        "colab": {
          "base_uri": "https://localhost:8080/",
          "height": 237
        }
      },
      "source": [
        "df = pd.DataFrame(np.array([stream[i*seq_len: (i+1)*seq_len] for i in range(bs)]))\n",
        "df"
      ],
      "execution_count": 36,
      "outputs": [
        {
          "output_type": "execute_result",
          "data": {
            "text/html": [
              "<div>\n",
              "<style scoped>\n",
              "    .dataframe tbody tr th:only-of-type {\n",
              "        vertical-align: middle;\n",
              "    }\n",
              "\n",
              "    .dataframe tbody tr th {\n",
              "        vertical-align: top;\n",
              "    }\n",
              "\n",
              "    .dataframe thead th {\n",
              "        text-align: right;\n",
              "    }\n",
              "</style>\n",
              "<table border=\"1\" class=\"dataframe\">\n",
              "  <thead>\n",
              "    <tr style=\"text-align: right;\">\n",
              "      <th></th>\n",
              "      <th>0</th>\n",
              "      <th>1</th>\n",
              "      <th>2</th>\n",
              "      <th>3</th>\n",
              "      <th>4</th>\n",
              "      <th>5</th>\n",
              "      <th>6</th>\n",
              "      <th>7</th>\n",
              "      <th>8</th>\n",
              "      <th>9</th>\n",
              "      <th>10</th>\n",
              "      <th>11</th>\n",
              "      <th>12</th>\n",
              "      <th>13</th>\n",
              "      <th>14</th>\n",
              "    </tr>\n",
              "  </thead>\n",
              "  <tbody>\n",
              "    <tr>\n",
              "      <th>0</th>\n",
              "      <td>xxbos</td>\n",
              "      <td>xxmaj</td>\n",
              "      <td>in</td>\n",
              "      <td>this</td>\n",
              "      <td>chapter</td>\n",
              "      <td>,</td>\n",
              "      <td>we</td>\n",
              "      <td>will</td>\n",
              "      <td>go</td>\n",
              "      <td>back</td>\n",
              "      <td>over</td>\n",
              "      <td>the</td>\n",
              "      <td>example</td>\n",
              "      <td>of</td>\n",
              "      <td>classifying</td>\n",
              "    </tr>\n",
              "    <tr>\n",
              "      <th>1</th>\n",
              "      <td>movie</td>\n",
              "      <td>reviews</td>\n",
              "      <td>we</td>\n",
              "      <td>studied</td>\n",
              "      <td>in</td>\n",
              "      <td>chapter</td>\n",
              "      <td>1</td>\n",
              "      <td>and</td>\n",
              "      <td>dig</td>\n",
              "      <td>deeper</td>\n",
              "      <td>under</td>\n",
              "      <td>the</td>\n",
              "      <td>surface</td>\n",
              "      <td>.</td>\n",
              "      <td>xxmaj</td>\n",
              "    </tr>\n",
              "    <tr>\n",
              "      <th>2</th>\n",
              "      <td>first</td>\n",
              "      <td>we</td>\n",
              "      <td>will</td>\n",
              "      <td>look</td>\n",
              "      <td>at</td>\n",
              "      <td>the</td>\n",
              "      <td>processing</td>\n",
              "      <td>steps</td>\n",
              "      <td>necessary</td>\n",
              "      <td>to</td>\n",
              "      <td>convert</td>\n",
              "      <td>text</td>\n",
              "      <td>into</td>\n",
              "      <td>numbers</td>\n",
              "      <td>and</td>\n",
              "    </tr>\n",
              "    <tr>\n",
              "      <th>3</th>\n",
              "      <td>how</td>\n",
              "      <td>to</td>\n",
              "      <td>customize</td>\n",
              "      <td>it</td>\n",
              "      <td>.</td>\n",
              "      <td>xxmaj</td>\n",
              "      <td>by</td>\n",
              "      <td>doing</td>\n",
              "      <td>this</td>\n",
              "      <td>,</td>\n",
              "      <td>we</td>\n",
              "      <td>'ll</td>\n",
              "      <td>have</td>\n",
              "      <td>another</td>\n",
              "      <td>example</td>\n",
              "    </tr>\n",
              "    <tr>\n",
              "      <th>4</th>\n",
              "      <td>of</td>\n",
              "      <td>the</td>\n",
              "      <td>preprocessor</td>\n",
              "      <td>used</td>\n",
              "      <td>in</td>\n",
              "      <td>the</td>\n",
              "      <td>data</td>\n",
              "      <td>block</td>\n",
              "      <td>xxup</td>\n",
              "      <td>api</td>\n",
              "      <td>.</td>\n",
              "      <td>\\n</td>\n",
              "      <td>xxmaj</td>\n",
              "      <td>then</td>\n",
              "      <td>we</td>\n",
              "    </tr>\n",
              "    <tr>\n",
              "      <th>5</th>\n",
              "      <td>will</td>\n",
              "      <td>study</td>\n",
              "      <td>how</td>\n",
              "      <td>we</td>\n",
              "      <td>build</td>\n",
              "      <td>a</td>\n",
              "      <td>language</td>\n",
              "      <td>model</td>\n",
              "      <td>and</td>\n",
              "      <td>train</td>\n",
              "      <td>it</td>\n",
              "      <td>for</td>\n",
              "      <td>a</td>\n",
              "      <td>while</td>\n",
              "      <td>.</td>\n",
              "    </tr>\n",
              "  </tbody>\n",
              "</table>\n",
              "</div>"
            ],
            "text/plain": [
              "      0        1             2        3   ...    11       12       13           14\n",
              "0  xxbos    xxmaj            in     this  ...   the  example       of  classifying\n",
              "1  movie  reviews            we  studied  ...   the  surface        .        xxmaj\n",
              "2  first       we          will     look  ...  text     into  numbers          and\n",
              "3    how       to     customize       it  ...   'll     have  another      example\n",
              "4     of      the  preprocessor     used  ...    \\n    xxmaj     then           we\n",
              "5   will    study           how       we  ...   for        a    while            .\n",
              "\n",
              "[6 rows x 15 columns]"
            ]
          },
          "metadata": {
            "tags": []
          },
          "execution_count": 36
        }
      ]
    },
    {
      "cell_type": "markdown",
      "metadata": {
        "id": "1fHmGXPGIv6J"
      },
      "source": [
        "Simple tests"
      ]
    },
    {
      "cell_type": "code",
      "metadata": {
        "id": "kgvBkcijF8Nw",
        "outputId": "1a256845-a41f-4707-8fc6-82bf48db706e",
        "colab": {
          "base_uri": "https://localhost:8080/",
          "height": 205
        }
      },
      "source": [
        "display(HTML(df.to_html(index=False, header=None)))"
      ],
      "execution_count": 41,
      "outputs": [
        {
          "output_type": "display_data",
          "data": {
            "text/html": [
              "<table border=\"1\" class=\"dataframe\">\n",
              "  <tbody>\n",
              "    <tr>\n",
              "      <td>xxbos</td>\n",
              "      <td>xxmaj</td>\n",
              "      <td>in</td>\n",
              "      <td>this</td>\n",
              "      <td>chapter</td>\n",
              "      <td>,</td>\n",
              "      <td>we</td>\n",
              "      <td>will</td>\n",
              "      <td>go</td>\n",
              "      <td>back</td>\n",
              "      <td>over</td>\n",
              "      <td>the</td>\n",
              "      <td>example</td>\n",
              "      <td>of</td>\n",
              "      <td>classifying</td>\n",
              "    </tr>\n",
              "    <tr>\n",
              "      <td>movie</td>\n",
              "      <td>reviews</td>\n",
              "      <td>we</td>\n",
              "      <td>studied</td>\n",
              "      <td>in</td>\n",
              "      <td>chapter</td>\n",
              "      <td>1</td>\n",
              "      <td>and</td>\n",
              "      <td>dig</td>\n",
              "      <td>deeper</td>\n",
              "      <td>under</td>\n",
              "      <td>the</td>\n",
              "      <td>surface</td>\n",
              "      <td>.</td>\n",
              "      <td>xxmaj</td>\n",
              "    </tr>\n",
              "    <tr>\n",
              "      <td>first</td>\n",
              "      <td>we</td>\n",
              "      <td>will</td>\n",
              "      <td>look</td>\n",
              "      <td>at</td>\n",
              "      <td>the</td>\n",
              "      <td>processing</td>\n",
              "      <td>steps</td>\n",
              "      <td>necessary</td>\n",
              "      <td>to</td>\n",
              "      <td>convert</td>\n",
              "      <td>text</td>\n",
              "      <td>into</td>\n",
              "      <td>numbers</td>\n",
              "      <td>and</td>\n",
              "    </tr>\n",
              "    <tr>\n",
              "      <td>how</td>\n",
              "      <td>to</td>\n",
              "      <td>customize</td>\n",
              "      <td>it</td>\n",
              "      <td>.</td>\n",
              "      <td>xxmaj</td>\n",
              "      <td>by</td>\n",
              "      <td>doing</td>\n",
              "      <td>this</td>\n",
              "      <td>,</td>\n",
              "      <td>we</td>\n",
              "      <td>'ll</td>\n",
              "      <td>have</td>\n",
              "      <td>another</td>\n",
              "      <td>example</td>\n",
              "    </tr>\n",
              "    <tr>\n",
              "      <td>of</td>\n",
              "      <td>the</td>\n",
              "      <td>preprocessor</td>\n",
              "      <td>used</td>\n",
              "      <td>in</td>\n",
              "      <td>the</td>\n",
              "      <td>data</td>\n",
              "      <td>block</td>\n",
              "      <td>xxup</td>\n",
              "      <td>api</td>\n",
              "      <td>.</td>\n",
              "      <td>\\n</td>\n",
              "      <td>xxmaj</td>\n",
              "      <td>then</td>\n",
              "      <td>we</td>\n",
              "    </tr>\n",
              "    <tr>\n",
              "      <td>will</td>\n",
              "      <td>study</td>\n",
              "      <td>how</td>\n",
              "      <td>we</td>\n",
              "      <td>build</td>\n",
              "      <td>a</td>\n",
              "      <td>language</td>\n",
              "      <td>model</td>\n",
              "      <td>and</td>\n",
              "      <td>train</td>\n",
              "      <td>it</td>\n",
              "      <td>for</td>\n",
              "      <td>a</td>\n",
              "      <td>while</td>\n",
              "      <td>.</td>\n",
              "    </tr>\n",
              "  </tbody>\n",
              "</table>"
            ],
            "text/plain": [
              "<IPython.core.display.HTML object>"
            ]
          },
          "metadata": {
            "tags": []
          }
        }
      ]
    },
    {
      "cell_type": "code",
      "metadata": {
        "id": "jnBcudUXGL8b",
        "outputId": "9b4ae219-61ed-4b4e-d0b5-d8bde6cc0f98",
        "colab": {
          "base_uri": "https://localhost:8080/",
          "height": 81
        }
      },
      "source": [
        "sample_df = pd.DataFrame([[33, 44, 25]], columns=['epoch', 'error', 'accuracy'])\n",
        "sample_df"
      ],
      "execution_count": 42,
      "outputs": [
        {
          "output_type": "execute_result",
          "data": {
            "text/html": [
              "<div>\n",
              "<style scoped>\n",
              "    .dataframe tbody tr th:only-of-type {\n",
              "        vertical-align: middle;\n",
              "    }\n",
              "\n",
              "    .dataframe tbody tr th {\n",
              "        vertical-align: top;\n",
              "    }\n",
              "\n",
              "    .dataframe thead th {\n",
              "        text-align: right;\n",
              "    }\n",
              "</style>\n",
              "<table border=\"1\" class=\"dataframe\">\n",
              "  <thead>\n",
              "    <tr style=\"text-align: right;\">\n",
              "      <th></th>\n",
              "      <th>epoch</th>\n",
              "      <th>error</th>\n",
              "      <th>accuracy</th>\n",
              "    </tr>\n",
              "  </thead>\n",
              "  <tbody>\n",
              "    <tr>\n",
              "      <th>0</th>\n",
              "      <td>33</td>\n",
              "      <td>44</td>\n",
              "      <td>25</td>\n",
              "    </tr>\n",
              "  </tbody>\n",
              "</table>\n",
              "</div>"
            ],
            "text/plain": [
              "   epoch  error  accuracy\n",
              "0     33     44        25"
            ]
          },
          "metadata": {
            "tags": []
          },
          "execution_count": 42
        }
      ]
    },
    {
      "cell_type": "code",
      "metadata": {
        "id": "IdLDBfwHHkxw",
        "outputId": "1ac9a955-00bd-4023-ad6e-7c13784bfc11",
        "colab": {
          "base_uri": "https://localhost:8080/",
          "height": 335
        }
      },
      "source": [
        "for i in range(5):\n",
        "  sample_df = pd.DataFrame([[i+1, i*44, i*25]], columns=['epoch', 'error', 'accuracy'])\n",
        "  display(HTML(sample_df.to_html(index=False)))"
      ],
      "execution_count": 43,
      "outputs": [
        {
          "output_type": "display_data",
          "data": {
            "text/html": [
              "<table border=\"1\" class=\"dataframe\">\n",
              "  <thead>\n",
              "    <tr style=\"text-align: right;\">\n",
              "      <th>epoch</th>\n",
              "      <th>error</th>\n",
              "      <th>accuracy</th>\n",
              "    </tr>\n",
              "  </thead>\n",
              "  <tbody>\n",
              "    <tr>\n",
              "      <td>1</td>\n",
              "      <td>0</td>\n",
              "      <td>0</td>\n",
              "    </tr>\n",
              "  </tbody>\n",
              "</table>"
            ],
            "text/plain": [
              "<IPython.core.display.HTML object>"
            ]
          },
          "metadata": {
            "tags": []
          }
        },
        {
          "output_type": "display_data",
          "data": {
            "text/html": [
              "<table border=\"1\" class=\"dataframe\">\n",
              "  <thead>\n",
              "    <tr style=\"text-align: right;\">\n",
              "      <th>epoch</th>\n",
              "      <th>error</th>\n",
              "      <th>accuracy</th>\n",
              "    </tr>\n",
              "  </thead>\n",
              "  <tbody>\n",
              "    <tr>\n",
              "      <td>2</td>\n",
              "      <td>44</td>\n",
              "      <td>25</td>\n",
              "    </tr>\n",
              "  </tbody>\n",
              "</table>"
            ],
            "text/plain": [
              "<IPython.core.display.HTML object>"
            ]
          },
          "metadata": {
            "tags": []
          }
        },
        {
          "output_type": "display_data",
          "data": {
            "text/html": [
              "<table border=\"1\" class=\"dataframe\">\n",
              "  <thead>\n",
              "    <tr style=\"text-align: right;\">\n",
              "      <th>epoch</th>\n",
              "      <th>error</th>\n",
              "      <th>accuracy</th>\n",
              "    </tr>\n",
              "  </thead>\n",
              "  <tbody>\n",
              "    <tr>\n",
              "      <td>3</td>\n",
              "      <td>88</td>\n",
              "      <td>50</td>\n",
              "    </tr>\n",
              "  </tbody>\n",
              "</table>"
            ],
            "text/plain": [
              "<IPython.core.display.HTML object>"
            ]
          },
          "metadata": {
            "tags": []
          }
        },
        {
          "output_type": "display_data",
          "data": {
            "text/html": [
              "<table border=\"1\" class=\"dataframe\">\n",
              "  <thead>\n",
              "    <tr style=\"text-align: right;\">\n",
              "      <th>epoch</th>\n",
              "      <th>error</th>\n",
              "      <th>accuracy</th>\n",
              "    </tr>\n",
              "  </thead>\n",
              "  <tbody>\n",
              "    <tr>\n",
              "      <td>4</td>\n",
              "      <td>132</td>\n",
              "      <td>75</td>\n",
              "    </tr>\n",
              "  </tbody>\n",
              "</table>"
            ],
            "text/plain": [
              "<IPython.core.display.HTML object>"
            ]
          },
          "metadata": {
            "tags": []
          }
        },
        {
          "output_type": "display_data",
          "data": {
            "text/html": [
              "<table border=\"1\" class=\"dataframe\">\n",
              "  <thead>\n",
              "    <tr style=\"text-align: right;\">\n",
              "      <th>epoch</th>\n",
              "      <th>error</th>\n",
              "      <th>accuracy</th>\n",
              "    </tr>\n",
              "  </thead>\n",
              "  <tbody>\n",
              "    <tr>\n",
              "      <td>5</td>\n",
              "      <td>176</td>\n",
              "      <td>100</td>\n",
              "    </tr>\n",
              "  </tbody>\n",
              "</table>"
            ],
            "text/plain": [
              "<IPython.core.display.HTML object>"
            ]
          },
          "metadata": {
            "tags": []
          }
        }
      ]
    },
    {
      "cell_type": "code",
      "metadata": {
        "id": "8pP2bKp1H_sL",
        "outputId": "304c7daa-947c-4654-a1a6-7d109de8bd6a",
        "colab": {
          "base_uri": "https://localhost:8080/",
          "height": 335
        }
      },
      "source": [
        "for i in range(5):\n",
        "  sample_df = pd.DataFrame([[i+1, i*44, i*25]], columns=['epoch', 'error', 'accuracy'])\n",
        "  display(sample_df)"
      ],
      "execution_count": 44,
      "outputs": [
        {
          "output_type": "display_data",
          "data": {
            "text/html": [
              "<div>\n",
              "<style scoped>\n",
              "    .dataframe tbody tr th:only-of-type {\n",
              "        vertical-align: middle;\n",
              "    }\n",
              "\n",
              "    .dataframe tbody tr th {\n",
              "        vertical-align: top;\n",
              "    }\n",
              "\n",
              "    .dataframe thead th {\n",
              "        text-align: right;\n",
              "    }\n",
              "</style>\n",
              "<table border=\"1\" class=\"dataframe\">\n",
              "  <thead>\n",
              "    <tr style=\"text-align: right;\">\n",
              "      <th></th>\n",
              "      <th>epoch</th>\n",
              "      <th>error</th>\n",
              "      <th>accuracy</th>\n",
              "    </tr>\n",
              "  </thead>\n",
              "  <tbody>\n",
              "    <tr>\n",
              "      <th>0</th>\n",
              "      <td>1</td>\n",
              "      <td>0</td>\n",
              "      <td>0</td>\n",
              "    </tr>\n",
              "  </tbody>\n",
              "</table>\n",
              "</div>"
            ],
            "text/plain": [
              "   epoch  error  accuracy\n",
              "0      1      0         0"
            ]
          },
          "metadata": {
            "tags": []
          }
        },
        {
          "output_type": "display_data",
          "data": {
            "text/html": [
              "<div>\n",
              "<style scoped>\n",
              "    .dataframe tbody tr th:only-of-type {\n",
              "        vertical-align: middle;\n",
              "    }\n",
              "\n",
              "    .dataframe tbody tr th {\n",
              "        vertical-align: top;\n",
              "    }\n",
              "\n",
              "    .dataframe thead th {\n",
              "        text-align: right;\n",
              "    }\n",
              "</style>\n",
              "<table border=\"1\" class=\"dataframe\">\n",
              "  <thead>\n",
              "    <tr style=\"text-align: right;\">\n",
              "      <th></th>\n",
              "      <th>epoch</th>\n",
              "      <th>error</th>\n",
              "      <th>accuracy</th>\n",
              "    </tr>\n",
              "  </thead>\n",
              "  <tbody>\n",
              "    <tr>\n",
              "      <th>0</th>\n",
              "      <td>2</td>\n",
              "      <td>44</td>\n",
              "      <td>25</td>\n",
              "    </tr>\n",
              "  </tbody>\n",
              "</table>\n",
              "</div>"
            ],
            "text/plain": [
              "   epoch  error  accuracy\n",
              "0      2     44        25"
            ]
          },
          "metadata": {
            "tags": []
          }
        },
        {
          "output_type": "display_data",
          "data": {
            "text/html": [
              "<div>\n",
              "<style scoped>\n",
              "    .dataframe tbody tr th:only-of-type {\n",
              "        vertical-align: middle;\n",
              "    }\n",
              "\n",
              "    .dataframe tbody tr th {\n",
              "        vertical-align: top;\n",
              "    }\n",
              "\n",
              "    .dataframe thead th {\n",
              "        text-align: right;\n",
              "    }\n",
              "</style>\n",
              "<table border=\"1\" class=\"dataframe\">\n",
              "  <thead>\n",
              "    <tr style=\"text-align: right;\">\n",
              "      <th></th>\n",
              "      <th>epoch</th>\n",
              "      <th>error</th>\n",
              "      <th>accuracy</th>\n",
              "    </tr>\n",
              "  </thead>\n",
              "  <tbody>\n",
              "    <tr>\n",
              "      <th>0</th>\n",
              "      <td>3</td>\n",
              "      <td>88</td>\n",
              "      <td>50</td>\n",
              "    </tr>\n",
              "  </tbody>\n",
              "</table>\n",
              "</div>"
            ],
            "text/plain": [
              "   epoch  error  accuracy\n",
              "0      3     88        50"
            ]
          },
          "metadata": {
            "tags": []
          }
        },
        {
          "output_type": "display_data",
          "data": {
            "text/html": [
              "<div>\n",
              "<style scoped>\n",
              "    .dataframe tbody tr th:only-of-type {\n",
              "        vertical-align: middle;\n",
              "    }\n",
              "\n",
              "    .dataframe tbody tr th {\n",
              "        vertical-align: top;\n",
              "    }\n",
              "\n",
              "    .dataframe thead th {\n",
              "        text-align: right;\n",
              "    }\n",
              "</style>\n",
              "<table border=\"1\" class=\"dataframe\">\n",
              "  <thead>\n",
              "    <tr style=\"text-align: right;\">\n",
              "      <th></th>\n",
              "      <th>epoch</th>\n",
              "      <th>error</th>\n",
              "      <th>accuracy</th>\n",
              "    </tr>\n",
              "  </thead>\n",
              "  <tbody>\n",
              "    <tr>\n",
              "      <th>0</th>\n",
              "      <td>4</td>\n",
              "      <td>132</td>\n",
              "      <td>75</td>\n",
              "    </tr>\n",
              "  </tbody>\n",
              "</table>\n",
              "</div>"
            ],
            "text/plain": [
              "   epoch  error  accuracy\n",
              "0      4    132        75"
            ]
          },
          "metadata": {
            "tags": []
          }
        },
        {
          "output_type": "display_data",
          "data": {
            "text/html": [
              "<div>\n",
              "<style scoped>\n",
              "    .dataframe tbody tr th:only-of-type {\n",
              "        vertical-align: middle;\n",
              "    }\n",
              "\n",
              "    .dataframe tbody tr th {\n",
              "        vertical-align: top;\n",
              "    }\n",
              "\n",
              "    .dataframe thead th {\n",
              "        text-align: right;\n",
              "    }\n",
              "</style>\n",
              "<table border=\"1\" class=\"dataframe\">\n",
              "  <thead>\n",
              "    <tr style=\"text-align: right;\">\n",
              "      <th></th>\n",
              "      <th>epoch</th>\n",
              "      <th>error</th>\n",
              "      <th>accuracy</th>\n",
              "    </tr>\n",
              "  </thead>\n",
              "  <tbody>\n",
              "    <tr>\n",
              "      <th>0</th>\n",
              "      <td>5</td>\n",
              "      <td>176</td>\n",
              "      <td>100</td>\n",
              "    </tr>\n",
              "  </tbody>\n",
              "</table>\n",
              "</div>"
            ],
            "text/plain": [
              "   epoch  error  accuracy\n",
              "0      5    176       100"
            ]
          },
          "metadata": {
            "tags": []
          }
        }
      ]
    },
    {
      "cell_type": "markdown",
      "metadata": {
        "id": "_mANNFnrI1D7"
      },
      "source": [
        "Back to business"
      ]
    },
    {
      "cell_type": "code",
      "metadata": {
        "id": "qhSK1Q5EIk0e"
      },
      "source": [
        "nums200 = toks200.map(num)"
      ],
      "execution_count": 37,
      "outputs": []
    },
    {
      "cell_type": "code",
      "metadata": {
        "id": "En9RAeJ0O7bz"
      },
      "source": [
        "dl = LMDataLoader(nums200, bs=32)"
      ],
      "execution_count": 38,
      "outputs": []
    },
    {
      "cell_type": "code",
      "metadata": {
        "id": "B_ZTWt83PlH5",
        "outputId": "3314d9b8-ab91-4ab5-da16-676d2b80fef4",
        "colab": {
          "base_uri": "https://localhost:8080/",
          "height": 34
        }
      },
      "source": [
        "x, y = first(dl)\n",
        "x.shape, y.shape"
      ],
      "execution_count": 39,
      "outputs": [
        {
          "output_type": "execute_result",
          "data": {
            "text/plain": [
              "(torch.Size([32, 72]), torch.Size([32, 72]))"
            ]
          },
          "metadata": {
            "tags": []
          },
          "execution_count": 39
        }
      ]
    },
    {
      "cell_type": "code",
      "metadata": {
        "id": "luHZWarHPr32",
        "outputId": "44e89622-89a4-4c30-d46e-5ce0e90ec4e4",
        "colab": {
          "base_uri": "https://localhost:8080/",
          "height": 52
        }
      },
      "source": [
        "' '.join([num.vocab[i] for i in x[1][:20]]), ' '.join([num.vocab[i] for i in y[1][:20]])"
      ],
      "execution_count": 40,
      "outputs": [
        {
          "output_type": "execute_result",
          "data": {
            "text/plain": [
              "('the xxmaj xxunk xxmaj party . i can understand why a lot of people look down on writing like his',\n",
              " 'xxmaj xxunk xxmaj party . i can understand why a lot of people look down on writing like his ,')"
            ]
          },
          "metadata": {
            "tags": []
          },
          "execution_count": 40
        }
      ]
    },
    {
      "cell_type": "markdown",
      "metadata": {
        "id": "uVdkwlwpQ4zm"
      },
      "source": [
        "## Language model with data block"
      ]
    },
    {
      "cell_type": "code",
      "metadata": {
        "id": "EuyvEAzkQIHV",
        "outputId": "8531096e-1ce8-4aec-ab13-488cd525fd1f",
        "colab": {
          "base_uri": "https://localhost:8080/",
          "height": 17
        }
      },
      "source": [
        "get_imdb = partial(get_text_files, folders=['train', 'test', 'unsup'])\n",
        "\n",
        "db = DataBlock(\n",
        "    blocks=TextBlock.from_folder(path/'..', is_lm=True),\n",
        "    get_items=get_imdb,\n",
        "    splitter=RandomSplitter(0.1)\n",
        ")"
      ],
      "execution_count": 41,
      "outputs": [
        {
          "output_type": "display_data",
          "data": {
            "text/html": [
              ""
            ],
            "text/plain": [
              "<IPython.core.display.HTML object>"
            ]
          },
          "metadata": {
            "tags": []
          }
        }
      ]
    },
    {
      "cell_type": "markdown",
      "metadata": {
        "id": "0bdMkzUBZgN4"
      },
      "source": [
        "@classmethod"
      ]
    },
    {
      "cell_type": "code",
      "metadata": {
        "id": "cqXDFVcHUfvQ"
      },
      "source": [
        "class MyFirstClass:\n",
        "  age = 26\n",
        "\n",
        "  @classmethod\n",
        "  def print_something(cls):\n",
        "    return cls.age\n",
        "\n",
        "  def show(self, num):\n",
        "    return num"
      ],
      "execution_count": 127,
      "outputs": []
    },
    {
      "cell_type": "code",
      "metadata": {
        "id": "L1t2YiTtXyWo",
        "outputId": "c7cd5ad5-5c58-4534-c2e7-edb69b069382",
        "colab": {
          "base_uri": "https://localhost:8080/",
          "height": 34
        }
      },
      "source": [
        "# MyClass.print_something = classmethod(MyClass.print_something)\n",
        "\n",
        "MyFirstClass.print_something()"
      ],
      "execution_count": 132,
      "outputs": [
        {
          "output_type": "execute_result",
          "data": {
            "text/plain": [
              "26"
            ]
          },
          "metadata": {
            "tags": []
          },
          "execution_count": 132
        }
      ]
    },
    {
      "cell_type": "code",
      "metadata": {
        "id": "sA3I1idJaxYa",
        "outputId": "9df00988-db3e-4d27-ce66-1cb67ba7cfbe",
        "colab": {
          "base_uri": "https://localhost:8080/",
          "height": 34
        }
      },
      "source": [
        "MyFirstClass().show(4)"
      ],
      "execution_count": 131,
      "outputs": [
        {
          "output_type": "execute_result",
          "data": {
            "text/plain": [
              "4"
            ]
          },
          "metadata": {
            "tags": []
          },
          "execution_count": 131
        }
      ]
    },
    {
      "cell_type": "code",
      "metadata": {
        "id": "pElNWOh8YZ1T",
        "outputId": "7c2a8c87-3d42-4963-c889-f1a8f14785cf",
        "colab": {
          "base_uri": "https://localhost:8080/",
          "height": 34
        }
      },
      "source": [
        "class Person:\n",
        "    age = 25\n",
        "\n",
        "    def printAge(cls):\n",
        "        print('The age is:', cls.age)\n",
        "\n",
        "# create printAge class method\n",
        "Person.printAge = classmethod(Person.printAge)\n",
        "\n",
        "Person.printAge()"
      ],
      "execution_count": 95,
      "outputs": [
        {
          "output_type": "stream",
          "text": [
            "The age is: 25\n"
          ],
          "name": "stdout"
        }
      ]
    },
    {
      "cell_type": "markdown",
      "metadata": {
        "id": "c409805BaUJ-"
      },
      "source": [
        "Back to business"
      ]
    },
    {
      "cell_type": "code",
      "metadata": {
        "id": "dTlKrp5rY8a8"
      },
      "source": [
        "dls = db.dataloaders(path, bs=32, seq_len=80)"
      ],
      "execution_count": 42,
      "outputs": []
    },
    {
      "cell_type": "code",
      "metadata": {
        "id": "4mfK5svudF8D",
        "outputId": "83c4a433-1189-4ed0-a055-6dadd94ccaa4",
        "colab": {
          "base_uri": "https://localhost:8080/",
          "height": 286
        }
      },
      "source": [
        "dls.show_batch(max_n=2)"
      ],
      "execution_count": 43,
      "outputs": [
        {
          "output_type": "display_data",
          "data": {
            "text/html": [
              "<table border=\"1\" class=\"dataframe\">\n",
              "  <thead>\n",
              "    <tr style=\"text-align: right;\">\n",
              "      <th></th>\n",
              "      <th>text</th>\n",
              "      <th>text_</th>\n",
              "    </tr>\n",
              "  </thead>\n",
              "  <tbody>\n",
              "    <tr>\n",
              "      <th>0</th>\n",
              "      <td>xxbos xxmaj season after season , the players or characters in this show appear to be people who you 'd absolutely love to hate . xxmaj is this show rigged to be that or were they chosen for the same ? xxmaj each episode vilifies one single person specifically and he ends up getting killed off . xxmaj you enjoy seeing them get screwed although its totally wrong and sick . xxmaj you enjoy seeing them screwing others , getting</td>\n",
              "      <td>xxmaj season after season , the players or characters in this show appear to be people who you 'd absolutely love to hate . xxmaj is this show rigged to be that or were they chosen for the same ? xxmaj each episode vilifies one single person specifically and he ends up getting killed off . xxmaj you enjoy seeing them get screwed although its totally wrong and sick . xxmaj you enjoy seeing them screwing others , getting screwed</td>\n",
              "    </tr>\n",
              "    <tr>\n",
              "      <th>1</th>\n",
              "      <td>are simply hilarious but most of the film is rather lame . xxmaj at least the music score is very good but the music always ends abruptly because of the editing . xxmaj there are also a few scenes that are not logical and film also contains a very obvious ( and therefore disturbing ) continuity error . xxmaj jean xxmaj reno gives a decent performance and xxmaj christian xxmaj clavier turned out to be a very talented comedy actor</td>\n",
              "      <td>simply hilarious but most of the film is rather lame . xxmaj at least the music score is very good but the music always ends abruptly because of the editing . xxmaj there are also a few scenes that are not logical and film also contains a very obvious ( and therefore disturbing ) continuity error . xxmaj jean xxmaj reno gives a decent performance and xxmaj christian xxmaj clavier turned out to be a very talented comedy actor .</td>\n",
              "    </tr>\n",
              "  </tbody>\n",
              "</table>"
            ],
            "text/plain": [
              "<IPython.core.display.HTML object>"
            ]
          },
          "metadata": {
            "tags": []
          }
        }
      ]
    },
    {
      "cell_type": "code",
      "metadata": {
        "id": "VGZKqxsGg0Na"
      },
      "source": [
        "learn = language_model_learner(dls, AWD_LSTM, drop_mult=0.3, metrics=[accuracy, Perplexity()]).to_fp16()"
      ],
      "execution_count": null,
      "outputs": []
    },
    {
      "cell_type": "code",
      "metadata": {
        "id": "-l6wTz1ThOwN"
      },
      "source": [
        "learn.fit_one_cycle(1, 2e-2)"
      ],
      "execution_count": null,
      "outputs": []
    },
    {
      "cell_type": "code",
      "metadata": {
        "id": "flIHkgglhUhT",
        "outputId": "ff1903bc-6ccc-4120-aadf-a0c8786c0fbb",
        "colab": {
          "base_uri": "https://localhost:8080/",
          "height": 34
        }
      },
      "source": [
        "learn.save('1epoch')"
      ],
      "execution_count": 55,
      "outputs": [
        {
          "output_type": "execute_result",
          "data": {
            "text/plain": [
              "Path('models/1epoch.pth')"
            ]
          },
          "metadata": {
            "tags": []
          },
          "execution_count": 55
        }
      ]
    },
    {
      "cell_type": "code",
      "metadata": {
        "id": "FZh1wGpVhb80",
        "outputId": "c24b9d9a-cf0d-4a8f-a50c-5605501bc431",
        "colab": {
          "base_uri": "https://localhost:8080/",
          "height": 34
        }
      },
      "source": [
        "learn.load('1epoch')"
      ],
      "execution_count": 56,
      "outputs": [
        {
          "output_type": "execute_result",
          "data": {
            "text/plain": [
              "<fastai.text.learner.LMLearner at 0x7f153a68fe80>"
            ]
          },
          "metadata": {
            "tags": []
          },
          "execution_count": 56
        }
      ]
    },
    {
      "cell_type": "code",
      "metadata": {
        "id": "p0KHC2kChfTI"
      },
      "source": [
        "learn.unfreeze()\n",
        "learn.fit_one_cycle(10, 2e-3)"
      ],
      "execution_count": null,
      "outputs": []
    },
    {
      "cell_type": "code",
      "metadata": {
        "id": "Jkn50_K5h0hi"
      },
      "source": [
        "learn.save_encoder('finetuned')"
      ],
      "execution_count": 58,
      "outputs": []
    },
    {
      "cell_type": "code",
      "metadata": {
        "id": "Gi0mCXyxh3jN",
        "outputId": "1320e8f4-a6a3-4c7b-8e37-846dc589e9b1",
        "colab": {
          "base_uri": "https://localhost:8080/",
          "height": 53
        }
      },
      "source": [
        "text = 'I like the movie because'\n",
        "num_words = 40\n",
        "\n",
        "learn.predict(text, num_words, temperature=0.75)"
      ],
      "execution_count": 46,
      "outputs": [
        {
          "output_type": "display_data",
          "data": {
            "text/html": [
              ""
            ],
            "text/plain": [
              "<IPython.core.display.HTML object>"
            ]
          },
          "metadata": {
            "tags": []
          }
        },
        {
          "output_type": "execute_result",
          "data": {
            "application/vnd.google.colaboratory.intrinsic+json": {
              "type": "string"
            },
            "text/plain": [
              "\"i like the movie because it does n't work . i can not imagine the movies being mainly filmed in England . It 's an adaptation of William Shakespeare 's play of the same name to play the King\""
            ]
          },
          "metadata": {
            "tags": []
          },
          "execution_count": 46
        }
      ]
    },
    {
      "cell_type": "markdown",
      "metadata": {
        "id": "LvdyUXWnjJZL"
      },
      "source": [
        "## Text classifier"
      ]
    },
    {
      "cell_type": "code",
      "metadata": {
        "id": "3h9-n1dSjLSo"
      },
      "source": [
        "db_classifier = DataBlock(\n",
        "    blocks=(TextBlock.from_folder(path, vocab=dls.vocab), CategoryBlock),\n",
        "    get_items = partial(get_text_files, folders=['train', 'test']),\n",
        "    get_y=parent_label,\n",
        "    splitter=GrandparentSplitter(valid_name='test')\n",
        ")"
      ],
      "execution_count": 97,
      "outputs": []
    },
    {
      "cell_type": "code",
      "metadata": {
        "id": "23tMVBq-j6Bk"
      },
      "source": [
        "dls_cls = db_classifier.dataloaders(path, bs=32, seq_len=72)"
      ],
      "execution_count": null,
      "outputs": []
    },
    {
      "cell_type": "code",
      "metadata": {
        "id": "iBBbFNrbzIYE"
      },
      "source": [
        "dls_cls.show_batch(max_n=2)"
      ],
      "execution_count": null,
      "outputs": []
    },
    {
      "cell_type": "code",
      "metadata": {
        "id": "uiv1qzggkHiI"
      },
      "source": [
        "learn = text_classifier_learner(dls_cls, AWD_LSTM, drop_mult=0.5, metrics=accuracy).to_fp16()"
      ],
      "execution_count": 105,
      "outputs": []
    },
    {
      "cell_type": "code",
      "metadata": {
        "id": "X_L3Vl5Rl_7M"
      },
      "source": [
        "learn = learn.load_encoder('finetuned')"
      ],
      "execution_count": 106,
      "outputs": []
    },
    {
      "cell_type": "code",
      "metadata": {
        "id": "ma-KABYZkHfa",
        "outputId": "1fbfe74e-dde3-4ee1-9963-f37a4c48ef0d",
        "colab": {
          "base_uri": "https://localhost:8080/",
          "height": 81
        }
      },
      "source": [
        "learn.fit_one_cycle(1, 2e-2)"
      ],
      "execution_count": 107,
      "outputs": [
        {
          "output_type": "display_data",
          "data": {
            "text/html": [
              "<table border=\"1\" class=\"dataframe\">\n",
              "  <thead>\n",
              "    <tr style=\"text-align: left;\">\n",
              "      <th>epoch</th>\n",
              "      <th>train_loss</th>\n",
              "      <th>valid_loss</th>\n",
              "      <th>accuracy</th>\n",
              "      <th>time</th>\n",
              "    </tr>\n",
              "  </thead>\n",
              "  <tbody>\n",
              "    <tr>\n",
              "      <td>0</td>\n",
              "      <td>0.559645</td>\n",
              "      <td>0.344728</td>\n",
              "      <td>0.851360</td>\n",
              "      <td>12:34</td>\n",
              "    </tr>\n",
              "  </tbody>\n",
              "</table>"
            ],
            "text/plain": [
              "<IPython.core.display.HTML object>"
            ]
          },
          "metadata": {
            "tags": []
          }
        }
      ]
    },
    {
      "cell_type": "code",
      "metadata": {
        "id": "xx1J6M-KkHca"
      },
      "source": [
        "#freeze except the last two layers\n",
        "learn.freeze_to(-2)\n",
        "learn.fit_one_cycle(1, slice(1e-2/(2.6**4),1e-2))"
      ],
      "execution_count": null,
      "outputs": []
    },
    {
      "cell_type": "code",
      "metadata": {
        "id": "ejPS8Ch4nIDw"
      },
      "source": [
        "learn.freeze_to(-3)\n",
        "learn.fit_one_cycle(1, slice(5e-3/(2.6**4),5e-3))"
      ],
      "execution_count": null,
      "outputs": []
    },
    {
      "cell_type": "code",
      "metadata": {
        "id": "kJLGTlSInN7Y"
      },
      "source": [
        "learn.unfreeze()\n",
        "learn.fit_one_cycle(1, slice(1e-3/(2.6**4),1e-3))"
      ],
      "execution_count": null,
      "outputs": []
    }
  ]
}